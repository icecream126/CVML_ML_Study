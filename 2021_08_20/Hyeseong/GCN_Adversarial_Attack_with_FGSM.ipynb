{
  "nbformat": 4,
  "nbformat_minor": 0,
  "metadata": {
    "colab": {
      "name": "GCN Adversarial Attack with FGSM.ipynb",
      "provenance": [],
      "machine_shape": "hm",
      "authorship_tag": "ABX9TyNV0wvebY+vcNs1KjMGCABM",
      "include_colab_link": true
    },
    "kernelspec": {
      "name": "python3",
      "display_name": "Python 3"
    },
    "language_info": {
      "name": "python"
    },
    "accelerator": "GPU"
  },
  "cells": [
    {
      "cell_type": "markdown",
      "metadata": {
        "id": "view-in-github",
        "colab_type": "text"
      },
      "source": [
        "<a href=\"https://colab.research.google.com/github/icecream126/CVML_ML_Study/blob/main/2021_08_20/Hyeseong/GCN_Adversarial_Attack_with_FGSM.ipynb\" target=\"_parent\"><img src=\"https://colab.research.google.com/assets/colab-badge.svg\" alt=\"Open In Colab\"/></a>"
      ]
    },
    {
      "cell_type": "code",
      "metadata": {
        "id": "mRZRVqCpah56",
        "colab": {
          "base_uri": "https://localhost:8080/"
        },
        "outputId": "aa98972f-523d-4ca8-809e-2053f9eda8cf"
      },
      "source": [
        "from google.colab import drive\n",
        "\n",
        "drive.mount('/content/gdrive/')"
      ],
      "execution_count": 2,
      "outputs": [
        {
          "output_type": "stream",
          "text": [
            "Drive already mounted at /content/gdrive/; to attempt to forcibly remount, call drive.mount(\"/content/gdrive/\", force_remount=True).\n"
          ],
          "name": "stdout"
        }
      ]
    },
    {
      "cell_type": "code",
      "metadata": {
        "id": "vB8lcKp9Tlbx",
        "colab": {
          "base_uri": "https://localhost:8080/"
        },
        "outputId": "9e7a8f8d-ed1d-4b16-c148-d12dd3bd2dfd"
      },
      "source": [
        "cd gdrive/MyDrive/Colab Notebooks/CVML/Adversarial Attack/Graph Adversarial Attack"
      ],
      "execution_count": 3,
      "outputs": [
        {
          "output_type": "stream",
          "text": [
            "/content/gdrive/MyDrive/Colab Notebooks/CVML/Adversarial Attack/Graph Adversarial Attack\n"
          ],
          "name": "stdout"
        }
      ]
    },
    {
      "cell_type": "code",
      "metadata": {
        "colab": {
          "base_uri": "https://localhost:8080/"
        },
        "id": "i0ZZg8MWunku",
        "outputId": "5840a3f1-2cdb-4d1f-9ac9-527ed5722d8d"
      },
      "source": [
        "!nvidia-smi"
      ],
      "execution_count": 4,
      "outputs": [
        {
          "output_type": "stream",
          "text": [
            "Fri Aug 20 02:52:54 2021       \n",
            "+-----------------------------------------------------------------------------+\n",
            "| NVIDIA-SMI 470.57.02    Driver Version: 460.32.03    CUDA Version: 11.2     |\n",
            "|-------------------------------+----------------------+----------------------+\n",
            "| GPU  Name        Persistence-M| Bus-Id        Disp.A | Volatile Uncorr. ECC |\n",
            "| Fan  Temp  Perf  Pwr:Usage/Cap|         Memory-Usage | GPU-Util  Compute M. |\n",
            "|                               |                      |               MIG M. |\n",
            "|===============================+======================+======================|\n",
            "|   0  Tesla P100-PCIE...  Off  | 00000000:00:04.0 Off |                    0 |\n",
            "| N/A   43C    P0    30W / 250W |      0MiB / 16280MiB |      0%      Default |\n",
            "|                               |                      |                  N/A |\n",
            "+-------------------------------+----------------------+----------------------+\n",
            "                                                                               \n",
            "+-----------------------------------------------------------------------------+\n",
            "| Processes:                                                                  |\n",
            "|  GPU   GI   CI        PID   Type   Process name                  GPU Memory |\n",
            "|        ID   ID                                                   Usage      |\n",
            "|=============================================================================|\n",
            "|  No running processes found                                                 |\n",
            "+-----------------------------------------------------------------------------+\n"
          ],
          "name": "stdout"
        }
      ]
    },
    {
      "cell_type": "markdown",
      "metadata": {
        "id": "eEAXm9eAm2o_"
      },
      "source": [
        "# 1. Dataset"
      ]
    },
    {
      "cell_type": "markdown",
      "metadata": {
        "id": "rXEDmql1pXjN"
      },
      "source": [
        "## 1.1. Download `Cora` Dataset"
      ]
    },
    {
      "cell_type": "markdown",
      "metadata": {
        "id": "c96Cz_11q95X"
      },
      "source": [
        "`Cora dataset`: 2708개의 scientific publications (Citation Network) \\\\\n",
        "* `node`: 머신러닝 논문 \\\\\n",
        "* `edge`: 논문 쌍 간의 인용 \\\\\n",
        "* `class`: 논문 클래스 ID(카테고리) (7개)\n",
        "* `features of node`: 논문들에서 등장하는 1433개의 단어를 모아 하나의 `단어 사전`으로 만들고, 논문마다 `단어 사전`에 있는 단어들의 등장 여부를 `feature vector`로 만든다.\n",
        "* `graph node classification`: 임의의 논문에 대해 **논문 내에 등장한 단어들과 인용 관계만으로 어떤 종류(`class`)의 논문인지 예측**"
      ]
    },
    {
      "cell_type": "code",
      "metadata": {
        "colab": {
          "base_uri": "https://localhost:8080/"
        },
        "id": "Snz7_yAzznEz",
        "outputId": "4ec91ac1-d5b1-4ec8-db31-14976d84d901"
      },
      "source": [
        "!pip list"
      ],
      "execution_count": 5,
      "outputs": [
        {
          "output_type": "stream",
          "text": [
            "Package                       Version\n",
            "----------------------------- --------------\n",
            "absl-py                       0.12.0\n",
            "alabaster                     0.7.12\n",
            "albumentations                0.1.12\n",
            "altair                        4.1.0\n",
            "appdirs                       1.4.4\n",
            "argcomplete                   1.12.3\n",
            "argon2-cffi                   20.1.0\n",
            "arviz                         0.11.2\n",
            "astor                         0.8.1\n",
            "astropy                       4.3.1\n",
            "astunparse                    1.6.3\n",
            "atari-py                      0.2.9\n",
            "atomicwrites                  1.4.0\n",
            "attrs                         21.2.0\n",
            "audioread                     2.1.9\n",
            "autograd                      1.3\n",
            "Babel                         2.9.1\n",
            "backcall                      0.2.0\n",
            "beautifulsoup4                4.6.3\n",
            "bleach                        4.0.0\n",
            "blis                          0.4.1\n",
            "bokeh                         2.3.3\n",
            "Bottleneck                    1.3.2\n",
            "branca                        0.4.2\n",
            "bs4                           0.0.1\n",
            "CacheControl                  0.12.6\n",
            "cached-property               1.5.2\n",
            "cachetools                    4.2.2\n",
            "catalogue                     1.0.0\n",
            "certifi                       2021.5.30\n",
            "cffi                          1.14.6\n",
            "cftime                        1.5.0\n",
            "chardet                       3.0.4\n",
            "charset-normalizer            2.0.4\n",
            "clang                         5.0\n",
            "click                         7.1.2\n",
            "cloudpickle                   1.3.0\n",
            "cmake                         3.12.0\n",
            "cmdstanpy                     0.9.5\n",
            "colorcet                      2.0.6\n",
            "colorlover                    0.3.0\n",
            "community                     1.0.0b1\n",
            "contextlib2                   0.5.5\n",
            "convertdate                   2.3.2\n",
            "coverage                      3.7.1\n",
            "coveralls                     0.5\n",
            "crcmod                        1.7\n",
            "cufflinks                     0.17.3\n",
            "cupy-cuda101                  9.1.0\n",
            "cvxopt                        1.2.6\n",
            "cvxpy                         1.0.31\n",
            "cycler                        0.10.0\n",
            "cymem                         2.0.5\n",
            "Cython                        0.29.24\n",
            "daft                          0.0.4\n",
            "dask                          2.12.0\n",
            "datascience                   0.10.6\n",
            "debugpy                       1.0.0\n",
            "decorator                     4.4.2\n",
            "defusedxml                    0.7.1\n",
            "descartes                     1.1.0\n",
            "dill                          0.3.4\n",
            "distributed                   1.25.3\n",
            "dlib                          19.18.0\n",
            "dm-tree                       0.1.6\n",
            "docopt                        0.6.2\n",
            "docutils                      0.17.1\n",
            "dopamine-rl                   1.0.5\n",
            "earthengine-api               0.1.278\n",
            "easydict                      1.9\n",
            "ecos                          2.0.7.post1\n",
            "editdistance                  0.5.3\n",
            "en-core-web-sm                2.2.5\n",
            "entrypoints                   0.3\n",
            "ephem                         4.0.0.2\n",
            "et-xmlfile                    1.1.0\n",
            "fa2                           0.3.5\n",
            "fastai                        1.0.61\n",
            "fastdtw                       0.3.4\n",
            "fastprogress                  1.0.0\n",
            "fastrlock                     0.6\n",
            "fbprophet                     0.7.1\n",
            "feather-format                0.4.1\n",
            "filelock                      3.0.12\n",
            "firebase-admin                4.4.0\n",
            "fix-yahoo-finance             0.0.22\n",
            "Flask                         1.1.4\n",
            "flatbuffers                   1.12\n",
            "folium                        0.8.3\n",
            "future                        0.16.0\n",
            "gast                          0.4.0\n",
            "GDAL                          2.2.2\n",
            "gdown                         3.6.4\n",
            "gensim                        3.6.0\n",
            "geographiclib                 1.52\n",
            "geopy                         1.17.0\n",
            "gin-config                    0.4.0\n",
            "glob2                         0.7\n",
            "google                        2.0.3\n",
            "google-api-core               1.26.3\n",
            "google-api-python-client      1.12.8\n",
            "google-auth                   1.34.0\n",
            "google-auth-httplib2          0.0.4\n",
            "google-auth-oauthlib          0.4.5\n",
            "google-cloud-bigquery         1.21.0\n",
            "google-cloud-bigquery-storage 1.1.0\n",
            "google-cloud-core             1.0.3\n",
            "google-cloud-datastore        1.8.0\n",
            "google-cloud-firestore        1.7.0\n",
            "google-cloud-language         1.2.0\n",
            "google-cloud-storage          1.18.1\n",
            "google-cloud-translate        1.5.0\n",
            "google-colab                  1.0.0\n",
            "google-pasta                  0.2.0\n",
            "google-resumable-media        0.4.1\n",
            "googleapis-common-protos      1.53.0\n",
            "googledrivedownloader         0.4\n",
            "graphviz                      0.10.1\n",
            "greenlet                      1.1.1\n",
            "grpcio                        1.39.0\n",
            "gspread                       3.0.1\n",
            "gspread-dataframe             3.0.8\n",
            "gym                           0.17.3\n",
            "h5py                          3.1.0\n",
            "HeapDict                      1.0.1\n",
            "hijri-converter               2.1.3\n",
            "holidays                      0.10.5.2\n",
            "holoviews                     1.14.5\n",
            "html5lib                      1.0.1\n",
            "httpimport                    0.5.18\n",
            "httplib2                      0.17.4\n",
            "httplib2shim                  0.0.3\n",
            "humanize                      0.5.1\n",
            "hyperopt                      0.1.2\n",
            "ideep4py                      2.0.0.post3\n",
            "idna                          2.10\n",
            "imageio                       2.4.1\n",
            "imagesize                     1.2.0\n",
            "imbalanced-learn              0.4.3\n",
            "imblearn                      0.0\n",
            "imgaug                        0.2.9\n",
            "importlib-metadata            4.6.4\n",
            "importlib-resources           5.2.2\n",
            "imutils                       0.5.4\n",
            "inflect                       2.1.0\n",
            "iniconfig                     1.1.1\n",
            "intel-openmp                  2021.3.0\n",
            "intervaltree                  2.1.0\n",
            "ipykernel                     4.10.1\n",
            "ipython                       5.5.0\n",
            "ipython-genutils              0.2.0\n",
            "ipython-sql                   0.3.9\n",
            "ipywidgets                    7.6.3\n",
            "isodate                       0.6.0\n",
            "itsdangerous                  1.1.0\n",
            "jax                           0.2.19\n",
            "jaxlib                        0.1.70+cuda110\n",
            "jdcal                         1.4.1\n",
            "jedi                          0.18.0\n",
            "jieba                         0.42.1\n",
            "Jinja2                        2.11.3\n",
            "joblib                        1.0.1\n",
            "jpeg4py                       0.1.4\n",
            "jsonschema                    2.6.0\n",
            "jupyter                       1.0.0\n",
            "jupyter-client                5.3.5\n",
            "jupyter-console               5.2.0\n",
            "jupyter-core                  4.7.1\n",
            "jupyterlab-pygments           0.1.2\n",
            "jupyterlab-widgets            1.0.0\n",
            "kaggle                        1.5.12\n",
            "kapre                         0.3.5\n",
            "keras                         2.6.0\n",
            "Keras-Preprocessing           1.1.2\n",
            "keras-vis                     0.4.1\n",
            "kiwisolver                    1.3.1\n",
            "korean-lunar-calendar         0.2.1\n",
            "librosa                       0.8.1\n",
            "lightgbm                      2.2.3\n",
            "llvmlite                      0.34.0\n",
            "lmdb                          0.99\n",
            "LunarCalendar                 0.0.9\n",
            "lxml                          4.2.6\n",
            "Markdown                      3.3.4\n",
            "MarkupSafe                    2.0.1\n",
            "matplotlib                    3.2.2\n",
            "matplotlib-inline             0.1.2\n",
            "matplotlib-venn               0.11.6\n",
            "missingno                     0.5.0\n",
            "mistune                       0.8.4\n",
            "mizani                        0.6.0\n",
            "mkl                           2019.0\n",
            "mlxtend                       0.14.0\n",
            "more-itertools                8.8.0\n",
            "moviepy                       0.2.3.5\n",
            "mpmath                        1.2.1\n",
            "msgpack                       1.0.2\n",
            "multiprocess                  0.70.12.2\n",
            "multitasking                  0.0.9\n",
            "murmurhash                    1.0.5\n",
            "music21                       5.5.0\n",
            "natsort                       5.5.0\n",
            "nbclient                      0.5.4\n",
            "nbconvert                     5.6.1\n",
            "nbformat                      5.1.3\n",
            "nest-asyncio                  1.5.1\n",
            "netCDF4                       1.5.7\n",
            "networkx                      2.6.2\n",
            "nibabel                       3.0.2\n",
            "nltk                          3.2.5\n",
            "notebook                      5.3.1\n",
            "numba                         0.51.2\n",
            "numexpr                       2.7.3\n",
            "numpy                         1.19.5\n",
            "nvidia-ml-py3                 7.352.0\n",
            "oauth2client                  4.1.3\n",
            "oauthlib                      3.1.1\n",
            "okgrade                       0.4.3\n",
            "opencv-contrib-python         4.1.2.30\n",
            "opencv-python                 4.1.2.30\n",
            "openpyxl                      2.5.9\n",
            "opt-einsum                    3.3.0\n",
            "osqp                          0.6.2.post0\n",
            "packaging                     21.0\n",
            "palettable                    3.3.0\n",
            "pandas                        1.1.5\n",
            "pandas-datareader             0.9.0\n",
            "pandas-gbq                    0.13.3\n",
            "pandas-profiling              1.4.1\n",
            "pandocfilters                 1.4.3\n",
            "panel                         0.12.1\n",
            "param                         1.11.1\n",
            "parso                         0.8.2\n",
            "pathlib                       1.0.1\n",
            "patsy                         0.5.1\n",
            "pep517                        0.11.0\n",
            "pexpect                       4.8.0\n",
            "pickleshare                   0.7.5\n",
            "Pillow                        7.1.2\n",
            "pip                           21.1.3\n",
            "pip-tools                     6.2.0\n",
            "plac                          1.1.3\n",
            "plotly                        4.4.1\n",
            "plotnine                      0.6.0\n",
            "pluggy                        0.7.1\n",
            "pooch                         1.4.0\n",
            "portpicker                    1.3.9\n",
            "prefetch-generator            1.0.1\n",
            "preshed                       3.0.5\n",
            "prettytable                   2.1.0\n",
            "progressbar2                  3.38.0\n",
            "prometheus-client             0.11.0\n",
            "promise                       2.3\n",
            "prompt-toolkit                1.0.18\n",
            "protobuf                      3.17.3\n",
            "psutil                        5.4.8\n",
            "psycopg2                      2.7.6.1\n",
            "ptyprocess                    0.7.0\n",
            "py                            1.10.0\n",
            "pyarrow                       3.0.0\n",
            "pyasn1                        0.4.8\n",
            "pyasn1-modules                0.2.8\n",
            "pycocotools                   2.0.2\n",
            "pycparser                     2.20\n",
            "pyct                          0.4.8\n",
            "pydata-google-auth            1.2.0\n",
            "pydot                         1.3.0\n",
            "pydot-ng                      2.0.0\n",
            "pydotplus                     2.0.2\n",
            "PyDrive                       1.3.1\n",
            "pyemd                         0.5.1\n",
            "pyerfa                        2.0.0\n",
            "pyglet                        1.5.0\n",
            "Pygments                      2.6.1\n",
            "pygobject                     3.26.1\n",
            "pymc3                         3.11.2\n",
            "PyMeeus                       0.5.11\n",
            "pymongo                       3.12.0\n",
            "pymystem3                     0.2.0\n",
            "PyOpenGL                      3.1.5\n",
            "pyparsing                     2.4.7\n",
            "pyrsistent                    0.18.0\n",
            "pysndfile                     1.3.8\n",
            "PySocks                       1.7.1\n",
            "pystan                        2.19.1.1\n",
            "pytest                        3.6.4\n",
            "python-apt                    0.0.0\n",
            "python-chess                  0.23.11\n",
            "python-dateutil               2.8.2\n",
            "python-louvain                0.15\n",
            "python-slugify                5.0.2\n",
            "python-utils                  2.5.6\n",
            "pytz                          2018.9\n",
            "pyviz-comms                   2.1.0\n",
            "PyWavelets                    1.1.1\n",
            "PyYAML                        3.13\n",
            "pyzmq                         22.2.1\n",
            "qdldl                         0.1.5.post0\n",
            "qtconsole                     5.1.1\n",
            "QtPy                          1.10.0\n",
            "rdflib                        6.0.0\n",
            "regex                         2019.12.20\n",
            "requests                      2.23.0\n",
            "requests-oauthlib             1.3.0\n",
            "resampy                       0.2.2\n",
            "retrying                      1.3.3\n",
            "rpy2                          3.4.5\n",
            "rsa                           4.7.2\n",
            "scikit-image                  0.16.2\n",
            "scikit-learn                  0.22.2.post1\n",
            "scipy                         1.4.1\n",
            "screen-resolution-extra       0.0.0\n",
            "scs                           2.1.4\n",
            "seaborn                       0.11.1\n",
            "semver                        2.13.0\n",
            "Send2Trash                    1.8.0\n",
            "setuptools                    57.4.0\n",
            "setuptools-git                1.2\n",
            "Shapely                       1.7.1\n",
            "simplegeneric                 0.8.1\n",
            "six                           1.15.0\n",
            "sklearn                       0.0\n",
            "sklearn-pandas                1.8.0\n",
            "smart-open                    5.1.0\n",
            "snowballstemmer               2.1.0\n",
            "sortedcontainers              2.4.0\n",
            "SoundFile                     0.10.3.post1\n",
            "spacy                         2.2.4\n",
            "Sphinx                        1.8.5\n",
            "sphinxcontrib-serializinghtml 1.1.5\n",
            "sphinxcontrib-websupport      1.2.4\n",
            "SQLAlchemy                    1.4.22\n",
            "sqlparse                      0.4.1\n",
            "srsly                         1.0.5\n",
            "statsmodels                   0.10.2\n",
            "sympy                         1.7.1\n",
            "tables                        3.4.4\n",
            "tabulate                      0.8.9\n",
            "tblib                         1.7.0\n",
            "tensorboard                   2.6.0\n",
            "tensorboard-data-server       0.6.1\n",
            "tensorboard-plugin-wit        1.8.0\n",
            "tensorflow                    2.6.0\n",
            "tensorflow-datasets           4.0.1\n",
            "tensorflow-estimator          2.6.0\n",
            "tensorflow-gcs-config         2.6.0\n",
            "tensorflow-hub                0.12.0\n",
            "tensorflow-metadata           1.2.0\n",
            "tensorflow-probability        0.13.0\n",
            "termcolor                     1.1.0\n",
            "terminado                     0.11.0\n",
            "testpath                      0.5.0\n",
            "text-unidecode                1.3\n",
            "textblob                      0.15.3\n",
            "Theano-PyMC                   1.1.2\n",
            "thinc                         7.4.0\n",
            "tifffile                      2021.8.8\n",
            "toml                          0.10.2\n",
            "tomli                         1.2.1\n",
            "toolz                         0.11.1\n",
            "torch                         1.9.0+cu102\n",
            "torch-cluster                 1.5.9\n",
            "torch-geometric               1.7.2\n",
            "torch-scatter                 2.0.8\n",
            "torch-sparse                  0.6.11\n",
            "torch-spline-conv             1.2.1\n",
            "torchsummary                  1.5.1\n",
            "torchtext                     0.10.0\n",
            "torchvision                   0.10.0+cu102\n",
            "tornado                       5.1.1\n",
            "tqdm                          4.62.0\n",
            "traitlets                     5.0.5\n",
            "tweepy                        3.10.0\n",
            "typeguard                     2.7.1\n",
            "typing-extensions             3.7.4.3\n",
            "tzlocal                       1.5.1\n",
            "uritemplate                   3.0.1\n",
            "urllib3                       1.24.3\n",
            "vega-datasets                 0.9.0\n",
            "wasabi                        0.8.2\n",
            "wcwidth                       0.2.5\n",
            "webencodings                  0.5.1\n",
            "Werkzeug                      1.0.1\n",
            "wheel                         0.37.0\n",
            "widgetsnbextension            3.5.1\n",
            "wordcloud                     1.5.0\n",
            "wrapt                         1.12.1\n",
            "xarray                        0.18.2\n",
            "xgboost                       0.90\n",
            "xkit                          0.0.0\n",
            "xlrd                          1.1.0\n",
            "xlwt                          1.3.0\n",
            "yellowbrick                   0.9.1\n",
            "zict                          2.0.0\n",
            "zipp                          3.5.0\n"
          ],
          "name": "stdout"
        }
      ]
    },
    {
      "cell_type": "code",
      "metadata": {
        "colab": {
          "base_uri": "https://localhost:8080/"
        },
        "id": "GS4XV9Tkz66T",
        "outputId": "4c8f4d98-3671-4522-fdb9-9fac8e050f65"
      },
      "source": [
        "pip install torch-scatter torch-sparse torch-cluster torch-spline-conv torch-geometric -f https://pytorch-geometric.com/whl/torch-1.9.0+cu102.html"
      ],
      "execution_count": 6,
      "outputs": [
        {
          "output_type": "stream",
          "text": [
            "Looking in links: https://pytorch-geometric.com/whl/torch-1.9.0+cu102.html\n",
            "Requirement already satisfied: torch-scatter in /usr/local/lib/python3.7/dist-packages (2.0.8)\n",
            "Requirement already satisfied: torch-sparse in /usr/local/lib/python3.7/dist-packages (0.6.11)\n",
            "Requirement already satisfied: torch-cluster in /usr/local/lib/python3.7/dist-packages (1.5.9)\n",
            "Requirement already satisfied: torch-spline-conv in /usr/local/lib/python3.7/dist-packages (1.2.1)\n",
            "Requirement already satisfied: torch-geometric in /usr/local/lib/python3.7/dist-packages (1.7.2)\n",
            "Requirement already satisfied: scipy in /usr/local/lib/python3.7/dist-packages (from torch-sparse) (1.4.1)\n",
            "Requirement already satisfied: rdflib in /usr/local/lib/python3.7/dist-packages (from torch-geometric) (6.0.0)\n",
            "Requirement already satisfied: googledrivedownloader in /usr/local/lib/python3.7/dist-packages (from torch-geometric) (0.4)\n",
            "Requirement already satisfied: numpy in /usr/local/lib/python3.7/dist-packages (from torch-geometric) (1.19.5)\n",
            "Requirement already satisfied: requests in /usr/local/lib/python3.7/dist-packages (from torch-geometric) (2.23.0)\n",
            "Requirement already satisfied: pandas in /usr/local/lib/python3.7/dist-packages (from torch-geometric) (1.1.5)\n",
            "Requirement already satisfied: tqdm in /usr/local/lib/python3.7/dist-packages (from torch-geometric) (4.62.0)\n",
            "Requirement already satisfied: pyparsing in /usr/local/lib/python3.7/dist-packages (from torch-geometric) (2.4.7)\n",
            "Requirement already satisfied: python-louvain in /usr/local/lib/python3.7/dist-packages (from torch-geometric) (0.15)\n",
            "Requirement already satisfied: jinja2 in /usr/local/lib/python3.7/dist-packages (from torch-geometric) (2.11.3)\n",
            "Requirement already satisfied: scikit-learn in /usr/local/lib/python3.7/dist-packages (from torch-geometric) (0.22.2.post1)\n",
            "Requirement already satisfied: networkx in /usr/local/lib/python3.7/dist-packages (from torch-geometric) (2.6.2)\n",
            "Requirement already satisfied: MarkupSafe>=0.23 in /usr/local/lib/python3.7/dist-packages (from jinja2->torch-geometric) (2.0.1)\n",
            "Requirement already satisfied: python-dateutil>=2.7.3 in /usr/local/lib/python3.7/dist-packages (from pandas->torch-geometric) (2.8.2)\n",
            "Requirement already satisfied: pytz>=2017.2 in /usr/local/lib/python3.7/dist-packages (from pandas->torch-geometric) (2018.9)\n",
            "Requirement already satisfied: six>=1.5 in /usr/local/lib/python3.7/dist-packages (from python-dateutil>=2.7.3->pandas->torch-geometric) (1.15.0)\n",
            "Requirement already satisfied: isodate in /usr/local/lib/python3.7/dist-packages (from rdflib->torch-geometric) (0.6.0)\n",
            "Requirement already satisfied: setuptools in /usr/local/lib/python3.7/dist-packages (from rdflib->torch-geometric) (57.4.0)\n",
            "Requirement already satisfied: idna<3,>=2.5 in /usr/local/lib/python3.7/dist-packages (from requests->torch-geometric) (2.10)\n",
            "Requirement already satisfied: chardet<4,>=3.0.2 in /usr/local/lib/python3.7/dist-packages (from requests->torch-geometric) (3.0.4)\n",
            "Requirement already satisfied: certifi>=2017.4.17 in /usr/local/lib/python3.7/dist-packages (from requests->torch-geometric) (2021.5.30)\n",
            "Requirement already satisfied: urllib3!=1.25.0,!=1.25.1,<1.26,>=1.21.1 in /usr/local/lib/python3.7/dist-packages (from requests->torch-geometric) (1.24.3)\n",
            "Requirement already satisfied: joblib>=0.11 in /usr/local/lib/python3.7/dist-packages (from scikit-learn->torch-geometric) (1.0.1)\n"
          ],
          "name": "stdout"
        }
      ]
    },
    {
      "cell_type": "code",
      "metadata": {
        "id": "PMOBPayIml3l"
      },
      "source": [
        "import torch\n",
        "from torch_geometric.datasets import Planetoid"
      ],
      "execution_count": 7,
      "outputs": []
    },
    {
      "cell_type": "code",
      "metadata": {
        "id": "S7lqPfRinIgr"
      },
      "source": [
        "dataset = Planetoid(root='/tmp/Cora', name='Cora')"
      ],
      "execution_count": 8,
      "outputs": []
    },
    {
      "cell_type": "markdown",
      "metadata": {
        "id": "3698UziRnLGA"
      },
      "source": [
        "`Cora()`: 데이터셋 전체가 하나의 그래프 \\\\\n",
        "`num_classes`: 클래스 수 (not graph but node) \\\\\n",
        "`num_node_features`: 1433 node features"
      ]
    },
    {
      "cell_type": "code",
      "metadata": {
        "id": "7NZi2-Ixnf1R",
        "colab": {
          "base_uri": "https://localhost:8080/"
        },
        "outputId": "76c1ce32-3bca-4513-feb8-2790448e33a9"
      },
      "source": [
        "print(dataset)\n",
        "print(len(dataset))\n",
        "print(dataset.num_classes)\n",
        "print(dataset.num_node_features)"
      ],
      "execution_count": 9,
      "outputs": [
        {
          "output_type": "stream",
          "text": [
            "Cora()\n",
            "1\n",
            "7\n",
            "1433\n"
          ],
          "name": "stdout"
        }
      ]
    },
    {
      "cell_type": "markdown",
      "metadata": {
        "id": "BVRFYF4fnuZx"
      },
      "source": [
        "`data = dataset[0]`: `slicing`으로 `node` 한 개 가져옴 \\\\\n",
        "`train_mask`: train nodes (140 nodes) \\\\\n",
        "`val_mask`: validation nodes (500 nodes) \\\\\n",
        "`test_mask`: test nodes (1000 nodes)"
      ]
    },
    {
      "cell_type": "code",
      "metadata": {
        "id": "S3xoUkkUnK3K",
        "colab": {
          "base_uri": "https://localhost:8080/"
        },
        "outputId": "b7a671e0-eb0e-4ed3-c54b-aa8461cd0254"
      },
      "source": [
        "data = dataset[0]\n",
        "print(data)\n",
        "print(data.is_undirected())\n",
        "print(data.train_mask.sum().item())\n",
        "print(data.val_mask.sum().item())\n",
        "print(data.test_mask.sum().item())"
      ],
      "execution_count": 10,
      "outputs": [
        {
          "output_type": "stream",
          "text": [
            "Data(edge_index=[2, 10556], test_mask=[2708], train_mask=[2708], val_mask=[2708], x=[2708, 1433], y=[2708])\n",
            "True\n",
            "140\n",
            "500\n",
            "1000\n"
          ],
          "name": "stdout"
        }
      ]
    },
    {
      "cell_type": "code",
      "metadata": {
        "colab": {
          "base_uri": "https://localhost:8080/"
        },
        "id": "IPD0StHC9yW1",
        "outputId": "04aa847e-8735-48e7-dd82-594d538d757b"
      },
      "source": [
        "print(data.train_mask)\n",
        "print(data.y)"
      ],
      "execution_count": 11,
      "outputs": [
        {
          "output_type": "stream",
          "text": [
            "tensor([ True,  True,  True,  ..., False, False, False])\n",
            "tensor([3, 4, 4,  ..., 3, 3, 3])\n"
          ],
          "name": "stdout"
        }
      ]
    },
    {
      "cell_type": "markdown",
      "metadata": {
        "id": "WhBpEbIjMke2"
      },
      "source": [
        "`data.edge_index`: `[2, 10556]`, graph connectivity ? \\\\\n",
        "`data.edge_attr`: `None`, edge feature matrix \\\\\n",
        "`data.x`: `[2708, 1433]`, node feature matrix (feature vector) -> 단어 사전 등장 여부 (2708개의 각 논문에 1433개의 단어 여부) \\\\\n",
        "`data.y`: `[2708]`, graph or node의 target -> 각 paper의 카테고리 ID (7개) \\\\\n",
        "`data.train_mask`: `[2708]`, train nodes ? \\\\"
      ]
    },
    {
      "cell_type": "code",
      "metadata": {
        "colab": {
          "base_uri": "https://localhost:8080/"
        },
        "id": "53OkwHAmK_cb",
        "outputId": "69d6625f-a3ca-49ee-b0fd-e2b50f0507e0"
      },
      "source": [
        "print(data.edge_index)\n",
        "print(data.edge_attr)\n",
        "print(data.x)\n",
        "print(data.y)\n",
        "# print(data.pos)\n",
        "# print(data.normal)\n",
        "# print(data.face)\n",
        "print(data.train_mask)"
      ],
      "execution_count": 14,
      "outputs": [
        {
          "output_type": "stream",
          "text": [
            "tensor([[   0,    0,    0,  ..., 2707, 2707, 2707],\n",
            "        [ 633, 1862, 2582,  ...,  598, 1473, 2706]])\n",
            "None\n",
            "tensor([[0., 0., 0.,  ..., 0., 0., 0.],\n",
            "        [0., 0., 0.,  ..., 0., 0., 0.],\n",
            "        [0., 0., 0.,  ..., 0., 0., 0.],\n",
            "        ...,\n",
            "        [0., 0., 0.,  ..., 0., 0., 0.],\n",
            "        [0., 0., 0.,  ..., 0., 0., 0.],\n",
            "        [0., 0., 0.,  ..., 0., 0., 0.]])\n",
            "tensor([3, 4, 4,  ..., 3, 3, 3])\n",
            "tensor([ True,  True,  True,  ..., False, False, False])\n"
          ],
          "name": "stdout"
        }
      ]
    },
    {
      "cell_type": "markdown",
      "metadata": {
        "id": "koObanqOpWIY"
      },
      "source": [
        "## 1.2. Dataloader"
      ]
    },
    {
      "cell_type": "code",
      "metadata": {
        "id": "oPyELyS2ps61"
      },
      "source": [
        "from torch_geometric.data import DataLoader"
      ],
      "execution_count": 15,
      "outputs": []
    },
    {
      "cell_type": "markdown",
      "metadata": {
        "id": "Jp-LAfUdp1i4"
      },
      "source": [
        "`torch_geometric.data.DataLoader`: 그래프 단위 데이터 처리"
      ]
    },
    {
      "cell_type": "code",
      "metadata": {
        "id": "CBYS6Y-GpxfX"
      },
      "source": [
        "loader = DataLoader(dataset, batch_size=1, shuffle=True)"
      ],
      "execution_count": 16,
      "outputs": []
    },
    {
      "cell_type": "markdown",
      "metadata": {
        "id": "c9AU9ubuqEyk"
      },
      "source": [
        "`batch`: 각 노드들을 각각의 batch와 mapping하는 열벡터 (1082 node에 32개의 batch mapping)\\\\\n",
        "(ex. $[0 \\ ... \\ 0 \\ 1 \\ ... \\ n-2 \\ n-1 \\ ... \\ n-1]^T$)"
      ]
    },
    {
      "cell_type": "code",
      "metadata": {
        "id": "y6d8OEQgp6sC",
        "colab": {
          "base_uri": "https://localhost:8080/"
        },
        "outputId": "b41e7c2e-6ed2-417a-c5db-a3ebf31f0561"
      },
      "source": [
        "for batch in loader:\n",
        "    print(batch)\n",
        "    print(batch.num_graphs)"
      ],
      "execution_count": 17,
      "outputs": [
        {
          "output_type": "stream",
          "text": [
            "Batch(batch=[2708], edge_index=[2, 10556], ptr=[2], test_mask=[2708], train_mask=[2708], val_mask=[2708], x=[2708, 1433], y=[2708])\n",
            "1\n"
          ],
          "name": "stdout"
        }
      ]
    },
    {
      "cell_type": "markdown",
      "metadata": {
        "id": "ExitTxjRu9VL"
      },
      "source": [
        "# 2. Learning Model"
      ]
    },
    {
      "cell_type": "markdown",
      "metadata": {
        "id": "1OW0Uy4HvCOG"
      },
      "source": [
        "## 2.1. Generate the `Vanilla Graph Convolutional Networks (GCN)`"
      ]
    },
    {
      "cell_type": "code",
      "metadata": {
        "id": "NlKUH44rvIn3"
      },
      "source": [
        "import torch.nn.functional as F\n",
        "from torch_geometric.nn import GCNConv"
      ],
      "execution_count": 18,
      "outputs": []
    },
    {
      "cell_type": "code",
      "metadata": {
        "id": "NutmuVolvO_p"
      },
      "source": [
        "class GCN(torch.nn.Module):\n",
        "    def __init__(self):\n",
        "        super(GCN, self).__init__()\n",
        "        self.conv1 = GCNConv(dataset.num_node_features, 16)\n",
        "        self.conv2 = GCNConv(16, dataset.num_classes)\n",
        "\n",
        "    def forward(self, data):\n",
        "        x, edge_index = data.x, data.edge_index\n",
        "\n",
        "        x = self.conv1(x, edge_index)\n",
        "        x = F.relu(x)\n",
        "        x = F.dropout(x, training=self.training)\n",
        "        x = self.conv2(x, edge_index)\n",
        "\n",
        "        return F.log_softmax(x, dim=1)"
      ],
      "execution_count": 19,
      "outputs": []
    },
    {
      "cell_type": "markdown",
      "metadata": {
        "id": "aI-wmNDxx2f1"
      },
      "source": [
        "## 2.2. Train"
      ]
    },
    {
      "cell_type": "code",
      "metadata": {
        "id": "p21jt3M71p_o"
      },
      "source": [
        "import time"
      ],
      "execution_count": 20,
      "outputs": []
    },
    {
      "cell_type": "code",
      "metadata": {
        "id": "JjEgD-idx53B",
        "colab": {
          "base_uri": "https://localhost:8080/"
        },
        "outputId": "cb8bd4aa-8a25-4aca-8710-42ab5efa4e0f"
      },
      "source": [
        "device = torch.device('cuda' if torch.cuda.is_available() else 'cpu')\n",
        "model = GCN().to(device)\n",
        "data = dataset[0].to(device)\n",
        "optimizer = torch.optim.Adam(model.parameters(), lr=0.01, weight_decay=5e-4)\n",
        "\n",
        "model.train()\n",
        "for epoch in range(200):\n",
        "    t = time.time()\n",
        "    optimizer.zero_grad()\n",
        "    out = model(data)\n",
        "    loss = F.nll_loss(out[data.train_mask], data.y[data.train_mask])\n",
        "    _, pred = out.max(dim=1)\n",
        "    correct = float (pred[data.test_mask].eq(data.y[data.test_mask]).sum().item())\n",
        "    acc = correct / data.train_mask.sum().item()\n",
        "    loss.backward()\n",
        "    optimizer.step()\n",
        "\n",
        "    print('Epoch: {:04d}'.format(epoch+1),\n",
        "              'loss_train: {:.4f}'.format(loss.item()),\n",
        "              'acc_train: {:.4f}'.format(acc),\n",
        "              'time: {:.4f}s'.format(time.time() - t))"
      ],
      "execution_count": 21,
      "outputs": [
        {
          "output_type": "stream",
          "text": [
            "Epoch: 0001 loss_train: 1.9401 acc_train: 1.1643 time: 0.0100s\n",
            "Epoch: 0002 loss_train: 1.8190 acc_train: 2.7714 time: 0.0055s\n",
            "Epoch: 0003 loss_train: 1.6793 acc_train: 3.6714 time: 0.0059s\n",
            "Epoch: 0004 loss_train: 1.5425 acc_train: 4.1643 time: 0.0058s\n",
            "Epoch: 0005 loss_train: 1.3657 acc_train: 4.3357 time: 0.0061s\n",
            "Epoch: 0006 loss_train: 1.2540 acc_train: 4.5571 time: 0.0055s\n",
            "Epoch: 0007 loss_train: 1.1116 acc_train: 4.6286 time: 0.0067s\n",
            "Epoch: 0008 loss_train: 1.0340 acc_train: 4.7357 time: 0.0065s\n",
            "Epoch: 0009 loss_train: 0.9301 acc_train: 4.7357 time: 0.0057s\n",
            "Epoch: 0010 loss_train: 0.7849 acc_train: 5.0000 time: 0.0057s\n",
            "Epoch: 0011 loss_train: 0.6761 acc_train: 4.9429 time: 0.0058s\n",
            "Epoch: 0012 loss_train: 0.6225 acc_train: 5.1857 time: 0.0055s\n",
            "Epoch: 0013 loss_train: 0.5344 acc_train: 5.2643 time: 0.0059s\n",
            "Epoch: 0014 loss_train: 0.4699 acc_train: 5.2429 time: 0.0059s\n",
            "Epoch: 0015 loss_train: 0.4323 acc_train: 5.2071 time: 0.0061s\n",
            "Epoch: 0016 loss_train: 0.3330 acc_train: 5.1786 time: 0.0057s\n",
            "Epoch: 0017 loss_train: 0.3416 acc_train: 5.3143 time: 0.0059s\n",
            "Epoch: 0018 loss_train: 0.2892 acc_train: 5.1714 time: 0.0059s\n",
            "Epoch: 0019 loss_train: 0.2601 acc_train: 5.2643 time: 0.0059s\n",
            "Epoch: 0020 loss_train: 0.2336 acc_train: 5.4357 time: 0.0058s\n",
            "Epoch: 0021 loss_train: 0.1979 acc_train: 5.1857 time: 0.0057s\n",
            "Epoch: 0022 loss_train: 0.2065 acc_train: 5.2714 time: 0.0051s\n",
            "Epoch: 0023 loss_train: 0.1986 acc_train: 5.1643 time: 0.0060s\n",
            "Epoch: 0024 loss_train: 0.1699 acc_train: 5.2786 time: 0.0052s\n",
            "Epoch: 0025 loss_train: 0.1449 acc_train: 5.3357 time: 0.0048s\n",
            "Epoch: 0026 loss_train: 0.1616 acc_train: 5.2571 time: 0.0060s\n",
            "Epoch: 0027 loss_train: 0.1342 acc_train: 5.1500 time: 0.0058s\n",
            "Epoch: 0028 loss_train: 0.1217 acc_train: 5.2500 time: 0.0058s\n",
            "Epoch: 0029 loss_train: 0.1107 acc_train: 5.2214 time: 0.0060s\n",
            "Epoch: 0030 loss_train: 0.1013 acc_train: 5.1714 time: 0.0068s\n",
            "Epoch: 0031 loss_train: 0.1307 acc_train: 5.1500 time: 0.0068s\n",
            "Epoch: 0032 loss_train: 0.1086 acc_train: 5.3071 time: 0.0070s\n",
            "Epoch: 0033 loss_train: 0.0951 acc_train: 5.2000 time: 0.0099s\n",
            "Epoch: 0034 loss_train: 0.0751 acc_train: 5.3143 time: 0.0065s\n",
            "Epoch: 0035 loss_train: 0.0974 acc_train: 5.3286 time: 0.0062s\n",
            "Epoch: 0036 loss_train: 0.0696 acc_train: 5.4000 time: 0.0062s\n",
            "Epoch: 0037 loss_train: 0.0473 acc_train: 5.3786 time: 0.0054s\n",
            "Epoch: 0038 loss_train: 0.0953 acc_train: 5.3714 time: 0.0067s\n",
            "Epoch: 0039 loss_train: 0.0507 acc_train: 5.2857 time: 0.0068s\n",
            "Epoch: 0040 loss_train: 0.0649 acc_train: 5.2857 time: 0.0067s\n",
            "Epoch: 0041 loss_train: 0.0600 acc_train: 5.3786 time: 0.0056s\n",
            "Epoch: 0042 loss_train: 0.0642 acc_train: 5.4000 time: 0.0068s\n",
            "Epoch: 0043 loss_train: 0.0689 acc_train: 5.3214 time: 0.0064s\n",
            "Epoch: 0044 loss_train: 0.0695 acc_train: 5.2500 time: 0.0060s\n",
            "Epoch: 0045 loss_train: 0.0727 acc_train: 5.3214 time: 0.0059s\n",
            "Epoch: 0046 loss_train: 0.0654 acc_train: 5.3214 time: 0.0053s\n",
            "Epoch: 0047 loss_train: 0.0534 acc_train: 5.3786 time: 0.0059s\n",
            "Epoch: 0048 loss_train: 0.0525 acc_train: 5.4643 time: 0.0060s\n",
            "Epoch: 0049 loss_train: 0.0705 acc_train: 5.3143 time: 0.0058s\n",
            "Epoch: 0050 loss_train: 0.0575 acc_train: 5.3071 time: 0.0060s\n",
            "Epoch: 0051 loss_train: 0.0446 acc_train: 5.2643 time: 0.0059s\n",
            "Epoch: 0052 loss_train: 0.0449 acc_train: 5.4286 time: 0.0049s\n",
            "Epoch: 0053 loss_train: 0.0535 acc_train: 5.2429 time: 0.0060s\n",
            "Epoch: 0054 loss_train: 0.0615 acc_train: 5.2071 time: 0.0053s\n",
            "Epoch: 0055 loss_train: 0.0561 acc_train: 5.2643 time: 0.0062s\n",
            "Epoch: 0056 loss_train: 0.0477 acc_train: 5.3286 time: 0.0060s\n",
            "Epoch: 0057 loss_train: 0.0640 acc_train: 5.2786 time: 0.0062s\n",
            "Epoch: 0058 loss_train: 0.0395 acc_train: 5.3071 time: 0.0061s\n",
            "Epoch: 0059 loss_train: 0.0475 acc_train: 5.2286 time: 0.0059s\n",
            "Epoch: 0060 loss_train: 0.0465 acc_train: 5.2929 time: 0.0059s\n",
            "Epoch: 0061 loss_train: 0.0460 acc_train: 5.2571 time: 0.0056s\n",
            "Epoch: 0062 loss_train: 0.0736 acc_train: 5.3214 time: 0.0061s\n",
            "Epoch: 0063 loss_train: 0.0368 acc_train: 5.3286 time: 0.0060s\n",
            "Epoch: 0064 loss_train: 0.0466 acc_train: 5.3071 time: 0.0056s\n",
            "Epoch: 0065 loss_train: 0.0503 acc_train: 5.3214 time: 0.0063s\n",
            "Epoch: 0066 loss_train: 0.0423 acc_train: 5.2143 time: 0.0072s\n",
            "Epoch: 0067 loss_train: 0.0301 acc_train: 5.2643 time: 0.0055s\n",
            "Epoch: 0068 loss_train: 0.0335 acc_train: 5.3286 time: 0.0046s\n",
            "Epoch: 0069 loss_train: 0.0397 acc_train: 5.4643 time: 0.0059s\n",
            "Epoch: 0070 loss_train: 0.0334 acc_train: 5.3000 time: 0.0043s\n",
            "Epoch: 0071 loss_train: 0.0427 acc_train: 5.3786 time: 0.0055s\n",
            "Epoch: 0072 loss_train: 0.0447 acc_train: 5.3786 time: 0.0049s\n",
            "Epoch: 0073 loss_train: 0.0222 acc_train: 5.4643 time: 0.0074s\n",
            "Epoch: 0074 loss_train: 0.0365 acc_train: 5.2143 time: 0.0056s\n",
            "Epoch: 0075 loss_train: 0.0347 acc_train: 5.2929 time: 0.0054s\n",
            "Epoch: 0076 loss_train: 0.0405 acc_train: 5.3643 time: 0.0057s\n",
            "Epoch: 0077 loss_train: 0.0428 acc_train: 5.4929 time: 0.0056s\n",
            "Epoch: 0078 loss_train: 0.0406 acc_train: 5.4143 time: 0.0056s\n",
            "Epoch: 0079 loss_train: 0.0353 acc_train: 5.3357 time: 0.0049s\n",
            "Epoch: 0080 loss_train: 0.0422 acc_train: 5.3214 time: 0.0059s\n",
            "Epoch: 0081 loss_train: 0.0428 acc_train: 5.2571 time: 0.0057s\n",
            "Epoch: 0082 loss_train: 0.0350 acc_train: 5.3643 time: 0.0056s\n",
            "Epoch: 0083 loss_train: 0.0595 acc_train: 5.2571 time: 0.0056s\n",
            "Epoch: 0084 loss_train: 0.0364 acc_train: 5.3214 time: 0.0058s\n",
            "Epoch: 0085 loss_train: 0.0491 acc_train: 5.4071 time: 0.0060s\n",
            "Epoch: 0086 loss_train: 0.0418 acc_train: 5.2714 time: 0.0059s\n",
            "Epoch: 0087 loss_train: 0.0516 acc_train: 5.2214 time: 0.0084s\n",
            "Epoch: 0088 loss_train: 0.0528 acc_train: 5.3143 time: 0.0068s\n",
            "Epoch: 0089 loss_train: 0.0412 acc_train: 5.3500 time: 0.0062s\n",
            "Epoch: 0090 loss_train: 0.0358 acc_train: 5.3571 time: 0.0051s\n",
            "Epoch: 0091 loss_train: 0.0381 acc_train: 5.3643 time: 0.0057s\n",
            "Epoch: 0092 loss_train: 0.0421 acc_train: 5.3500 time: 0.0051s\n",
            "Epoch: 0093 loss_train: 0.0294 acc_train: 5.3143 time: 0.0048s\n",
            "Epoch: 0094 loss_train: 0.0331 acc_train: 5.3357 time: 0.0050s\n",
            "Epoch: 0095 loss_train: 0.0357 acc_train: 5.4286 time: 0.0053s\n",
            "Epoch: 0096 loss_train: 0.0532 acc_train: 5.2786 time: 0.0058s\n",
            "Epoch: 0097 loss_train: 0.0419 acc_train: 5.4929 time: 0.0055s\n",
            "Epoch: 0098 loss_train: 0.0480 acc_train: 5.3429 time: 0.0073s\n",
            "Epoch: 0099 loss_train: 0.0718 acc_train: 5.3500 time: 0.0060s\n",
            "Epoch: 0100 loss_train: 0.0296 acc_train: 5.2500 time: 0.0053s\n",
            "Epoch: 0101 loss_train: 0.0382 acc_train: 5.4000 time: 0.0057s\n",
            "Epoch: 0102 loss_train: 0.0445 acc_train: 5.3286 time: 0.0052s\n",
            "Epoch: 0103 loss_train: 0.0387 acc_train: 5.4071 time: 0.0057s\n",
            "Epoch: 0104 loss_train: 0.0386 acc_train: 5.3429 time: 0.0059s\n",
            "Epoch: 0105 loss_train: 0.0405 acc_train: 5.3857 time: 0.0058s\n",
            "Epoch: 0106 loss_train: 0.0304 acc_train: 5.2929 time: 0.0052s\n",
            "Epoch: 0107 loss_train: 0.0454 acc_train: 5.3429 time: 0.0056s\n",
            "Epoch: 0108 loss_train: 0.0392 acc_train: 5.3714 time: 0.0049s\n",
            "Epoch: 0109 loss_train: 0.0367 acc_train: 5.2357 time: 0.0043s\n",
            "Epoch: 0110 loss_train: 0.0385 acc_train: 5.3714 time: 0.0054s\n",
            "Epoch: 0111 loss_train: 0.0329 acc_train: 5.4286 time: 0.0068s\n",
            "Epoch: 0112 loss_train: 0.0422 acc_train: 5.4929 time: 0.0060s\n",
            "Epoch: 0113 loss_train: 0.0257 acc_train: 5.3929 time: 0.0049s\n",
            "Epoch: 0114 loss_train: 0.0313 acc_train: 5.4643 time: 0.0059s\n",
            "Epoch: 0115 loss_train: 0.0253 acc_train: 5.3571 time: 0.0061s\n",
            "Epoch: 0116 loss_train: 0.0543 acc_train: 5.3000 time: 0.0050s\n",
            "Epoch: 0117 loss_train: 0.0520 acc_train: 5.4429 time: 0.0060s\n",
            "Epoch: 0118 loss_train: 0.0380 acc_train: 5.3429 time: 0.0068s\n",
            "Epoch: 0119 loss_train: 0.0352 acc_train: 5.4500 time: 0.0058s\n",
            "Epoch: 0120 loss_train: 0.0345 acc_train: 5.4357 time: 0.0064s\n",
            "Epoch: 0121 loss_train: 0.0464 acc_train: 5.4071 time: 0.0060s\n",
            "Epoch: 0122 loss_train: 0.0251 acc_train: 5.4714 time: 0.0058s\n",
            "Epoch: 0123 loss_train: 0.0269 acc_train: 5.2857 time: 0.0062s\n",
            "Epoch: 0124 loss_train: 0.0476 acc_train: 5.4214 time: 0.0052s\n",
            "Epoch: 0125 loss_train: 0.0234 acc_train: 5.4286 time: 0.0059s\n",
            "Epoch: 0126 loss_train: 0.0484 acc_train: 5.3214 time: 0.0059s\n",
            "Epoch: 0127 loss_train: 0.0306 acc_train: 5.2357 time: 0.0049s\n",
            "Epoch: 0128 loss_train: 0.0419 acc_train: 5.3429 time: 0.0053s\n",
            "Epoch: 0129 loss_train: 0.0478 acc_train: 5.3643 time: 0.0060s\n",
            "Epoch: 0130 loss_train: 0.0255 acc_train: 5.2857 time: 0.0059s\n",
            "Epoch: 0131 loss_train: 0.0404 acc_train: 5.3500 time: 0.0081s\n",
            "Epoch: 0132 loss_train: 0.0279 acc_train: 5.3500 time: 0.0056s\n",
            "Epoch: 0133 loss_train: 0.0278 acc_train: 5.3143 time: 0.0060s\n",
            "Epoch: 0134 loss_train: 0.0287 acc_train: 5.4143 time: 0.0059s\n",
            "Epoch: 0135 loss_train: 0.0398 acc_train: 5.3357 time: 0.0049s\n",
            "Epoch: 0136 loss_train: 0.0195 acc_train: 5.4571 time: 0.0061s\n",
            "Epoch: 0137 loss_train: 0.0224 acc_train: 5.5000 time: 0.0050s\n",
            "Epoch: 0138 loss_train: 0.0297 acc_train: 5.4429 time: 0.0059s\n",
            "Epoch: 0139 loss_train: 0.0263 acc_train: 5.3857 time: 0.0053s\n",
            "Epoch: 0140 loss_train: 0.0287 acc_train: 5.2214 time: 0.0057s\n",
            "Epoch: 0141 loss_train: 0.0285 acc_train: 5.4714 time: 0.0058s\n",
            "Epoch: 0142 loss_train: 0.0290 acc_train: 5.2357 time: 0.0061s\n",
            "Epoch: 0143 loss_train: 0.0249 acc_train: 5.3429 time: 0.0059s\n",
            "Epoch: 0144 loss_train: 0.0264 acc_train: 5.5000 time: 0.0059s\n",
            "Epoch: 0145 loss_train: 0.0389 acc_train: 5.4286 time: 0.0056s\n",
            "Epoch: 0146 loss_train: 0.0368 acc_train: 5.4929 time: 0.0064s\n",
            "Epoch: 0147 loss_train: 0.0373 acc_train: 5.3143 time: 0.0069s\n",
            "Epoch: 0148 loss_train: 0.0322 acc_train: 5.3143 time: 0.0068s\n",
            "Epoch: 0149 loss_train: 0.0338 acc_train: 5.3857 time: 0.0067s\n",
            "Epoch: 0150 loss_train: 0.0363 acc_train: 5.3214 time: 0.0054s\n",
            "Epoch: 0151 loss_train: 0.0346 acc_train: 5.4571 time: 0.0066s\n",
            "Epoch: 0152 loss_train: 0.0360 acc_train: 5.2857 time: 0.0066s\n",
            "Epoch: 0153 loss_train: 0.0351 acc_train: 5.2143 time: 0.0064s\n",
            "Epoch: 0154 loss_train: 0.0272 acc_train: 5.2857 time: 0.0052s\n",
            "Epoch: 0155 loss_train: 0.0217 acc_train: 5.4357 time: 0.0054s\n",
            "Epoch: 0156 loss_train: 0.0344 acc_train: 5.4214 time: 0.0069s\n",
            "Epoch: 0157 loss_train: 0.0209 acc_train: 5.3857 time: 0.0068s\n",
            "Epoch: 0158 loss_train: 0.0306 acc_train: 5.3500 time: 0.0067s\n",
            "Epoch: 0159 loss_train: 0.0217 acc_train: 5.4071 time: 0.0062s\n",
            "Epoch: 0160 loss_train: 0.0285 acc_train: 5.3571 time: 0.0066s\n",
            "Epoch: 0161 loss_train: 0.0259 acc_train: 5.4929 time: 0.0074s\n",
            "Epoch: 0162 loss_train: 0.0393 acc_train: 5.4071 time: 0.0071s\n",
            "Epoch: 0163 loss_train: 0.0299 acc_train: 5.3786 time: 0.0056s\n",
            "Epoch: 0164 loss_train: 0.0355 acc_train: 5.4429 time: 0.0065s\n",
            "Epoch: 0165 loss_train: 0.0370 acc_train: 5.3500 time: 0.0061s\n",
            "Epoch: 0166 loss_train: 0.0363 acc_train: 5.4500 time: 0.0061s\n",
            "Epoch: 0167 loss_train: 0.0294 acc_train: 5.4429 time: 0.0060s\n",
            "Epoch: 0168 loss_train: 0.0278 acc_train: 5.3571 time: 0.0068s\n",
            "Epoch: 0169 loss_train: 0.0237 acc_train: 5.3929 time: 0.0067s\n",
            "Epoch: 0170 loss_train: 0.0243 acc_train: 5.2857 time: 0.0065s\n",
            "Epoch: 0171 loss_train: 0.0237 acc_train: 5.2929 time: 0.0064s\n",
            "Epoch: 0172 loss_train: 0.0356 acc_train: 5.3643 time: 0.0066s\n",
            "Epoch: 0173 loss_train: 0.0322 acc_train: 5.3143 time: 0.0059s\n",
            "Epoch: 0174 loss_train: 0.0265 acc_train: 5.4857 time: 0.0063s\n",
            "Epoch: 0175 loss_train: 0.0190 acc_train: 5.3357 time: 0.0066s\n",
            "Epoch: 0176 loss_train: 0.0344 acc_train: 5.4071 time: 0.0064s\n",
            "Epoch: 0177 loss_train: 0.0187 acc_train: 5.3286 time: 0.0062s\n",
            "Epoch: 0178 loss_train: 0.0492 acc_train: 5.3857 time: 0.0064s\n",
            "Epoch: 0179 loss_train: 0.0267 acc_train: 5.4500 time: 0.0063s\n",
            "Epoch: 0180 loss_train: 0.0237 acc_train: 5.3786 time: 0.0112s\n",
            "Epoch: 0181 loss_train: 0.0269 acc_train: 5.3500 time: 0.0062s\n",
            "Epoch: 0182 loss_train: 0.0201 acc_train: 5.2857 time: 0.0052s\n",
            "Epoch: 0183 loss_train: 0.0266 acc_train: 5.3857 time: 0.0053s\n",
            "Epoch: 0184 loss_train: 0.0324 acc_train: 5.4571 time: 0.0053s\n",
            "Epoch: 0185 loss_train: 0.0277 acc_train: 5.4786 time: 0.0051s\n",
            "Epoch: 0186 loss_train: 0.0243 acc_train: 5.4214 time: 0.0056s\n",
            "Epoch: 0187 loss_train: 0.0401 acc_train: 5.4786 time: 0.0062s\n",
            "Epoch: 0188 loss_train: 0.0148 acc_train: 5.4643 time: 0.0064s\n",
            "Epoch: 0189 loss_train: 0.0224 acc_train: 5.4571 time: 0.0053s\n",
            "Epoch: 0190 loss_train: 0.0313 acc_train: 5.3000 time: 0.0063s\n",
            "Epoch: 0191 loss_train: 0.0311 acc_train: 5.3929 time: 0.0077s\n",
            "Epoch: 0192 loss_train: 0.0295 acc_train: 5.4857 time: 0.0071s\n",
            "Epoch: 0193 loss_train: 0.0371 acc_train: 5.4643 time: 0.0063s\n",
            "Epoch: 0194 loss_train: 0.0342 acc_train: 5.5000 time: 0.0066s\n",
            "Epoch: 0195 loss_train: 0.0324 acc_train: 5.4214 time: 0.0067s\n",
            "Epoch: 0196 loss_train: 0.0247 acc_train: 5.3929 time: 0.0066s\n",
            "Epoch: 0197 loss_train: 0.0315 acc_train: 5.4143 time: 0.0053s\n",
            "Epoch: 0198 loss_train: 0.0219 acc_train: 5.4500 time: 0.0067s\n",
            "Epoch: 0199 loss_train: 0.0211 acc_train: 5.4857 time: 0.0066s\n",
            "Epoch: 0200 loss_train: 0.0383 acc_train: 5.5857 time: 0.0070s\n"
          ],
          "name": "stdout"
        }
      ]
    },
    {
      "cell_type": "markdown",
      "metadata": {
        "id": "Eu60wUo5yGFw"
      },
      "source": [
        "## 2.3. Evaluation"
      ]
    },
    {
      "cell_type": "code",
      "metadata": {
        "id": "O1ImxXOZyIPy",
        "colab": {
          "base_uri": "https://localhost:8080/"
        },
        "outputId": "59c7ab6f-e4e0-4b54-9da7-cf5f91b26663"
      },
      "source": [
        "model.eval()\n",
        "_, pred = model(data).max(dim=1)\n",
        "correct = float (pred[data.test_mask].eq(data.y[data.test_mask]).sum().item())\n",
        "acc = correct / data.test_mask.sum().item()\n",
        "print('Accuracy: {:.4f}'.format(acc))"
      ],
      "execution_count": 22,
      "outputs": [
        {
          "output_type": "stream",
          "text": [
            "Accuracy: 0.8010\n"
          ],
          "name": "stdout"
        }
      ]
    },
    {
      "cell_type": "markdown",
      "metadata": {
        "id": "6VPwldOc2RVo"
      },
      "source": [
        "# 3. Attack"
      ]
    },
    {
      "cell_type": "markdown",
      "metadata": {
        "id": "lFk30XRZ2TfR"
      },
      "source": [
        "## 3.1. Generate `FGSM` Attack"
      ]
    },
    {
      "cell_type": "markdown",
      "metadata": {
        "id": "1dKnTPjeGH2m"
      },
      "source": [
        "* white-box attack"
      ]
    },
    {
      "cell_type": "markdown",
      "metadata": {
        "id": "xzRCuCZ4DdrV"
      },
      "source": [
        "$x_{perturbed} = x + \\epsilon \\times sign(∇_xJ(θ,x,y))$"
      ]
    },
    {
      "cell_type": "code",
      "metadata": {
        "id": "QlopDJCO2TOl"
      },
      "source": [
        "def fgsm(input, epsilon, data_grad):\n",
        "#    return torch.clamp(input + epsilon*data_grad.sign(), 0, 1)\n",
        "    return input + data_grad.sign()"
      ],
      "execution_count": 45,
      "outputs": []
    },
    {
      "cell_type": "markdown",
      "metadata": {
        "id": "cxUZHSHtEccW"
      },
      "source": [
        "## 3.2. Run Attack"
      ]
    },
    {
      "cell_type": "code",
      "metadata": {
        "id": "umTkyDRLGVdN"
      },
      "source": [
        "epsilons = [0, .05, .1, .15, .2, .25, .3]"
      ],
      "execution_count": 24,
      "outputs": []
    },
    {
      "cell_type": "code",
      "metadata": {
        "colab": {
          "base_uri": "https://localhost:8080/"
        },
        "id": "XAlqlF_8FeQX",
        "outputId": "ee15b8f0-04fb-4117-81da-e0f9e6b4dfa3"
      },
      "source": [
        "model.eval()"
      ],
      "execution_count": 25,
      "outputs": [
        {
          "output_type": "execute_result",
          "data": {
            "text/plain": [
              "GCN(\n",
              "  (conv1): GCNConv(1433, 16)\n",
              "  (conv2): GCNConv(16, 7)\n",
              ")"
            ]
          },
          "metadata": {},
          "execution_count": 25
        }
      ]
    },
    {
      "cell_type": "code",
      "metadata": {
        "id": "8-mYxwC8Vkxo"
      },
      "source": [
        "from torch.autograd import Variable"
      ],
      "execution_count": 26,
      "outputs": []
    },
    {
      "cell_type": "code",
      "metadata": {
        "id": "EK8Y3s3-GlQ6"
      },
      "source": [
        "def test(model, device, loader, epsilon):\n",
        "\n",
        "    # 정확도 카운터\n",
        "    correct = 0\n",
        "    adv_examples = []\n",
        "    retain_graph=True\n",
        "\n",
        "    # 테스트 셋의 모든 예제에 대해 루프를 돕니다\n",
        "\n",
        "    # 디바이스(CPU or GPU) 에 데이터와 라벨 값을 보냅니다\n",
        "    data = dataset[0].to(device)\n",
        "    data.retain_graph = True\n",
        "\n",
        "    # 텐서의 속성 중 requires_grad 를 설정합니다. 공격에서 중요한 부분입니다\n",
        "    data.x.requires_grad = True\n",
        "\n",
        "    # 데이터를 모델에 통과시킵니다\n",
        "    output = model(data)\n",
        "    #init_pred = output.max(1, keepdim=True)[1] # 로그 확률의 최대값을 가지는 인덱스를 얻습니다\n",
        "\n",
        "    # 만약 초기 예측이 틀리면, 공격하지 않도록 하고 계속 진행합니다\n",
        "    #if init_pred.item() != data.y[data.test_mask].item():\n",
        "    #    continue\n",
        "\n",
        "    # 손실을 계산합니다\n",
        "    loss = F.nll_loss(output, data.y)\n",
        "\n",
        "    # 모델의 변화도들을 전부 0으로 설정합니다\n",
        "    model.zero_grad()\n",
        "\n",
        "    # 후방 전달을 통해 모델의 변화도를 계산합니다\n",
        "    #loss.backward()\n",
        "\n",
        "    # 변화도 값을 모읍니다\n",
        "    data_grad = torch.autograd.grad(loss, data.x)[0]\n",
        "\n",
        "    # FGSM 공격을 호출합니다\n",
        "    perturbed_data = data\n",
        "    perturbed_data.x = fgsm(data.x, epsilon, data_grad)\n",
        "\n",
        "    # 작은 변화가 적용된 이미지에 대해 재분류합니다\n",
        "    output = model(perturbed_data)\n",
        "\n",
        "\n",
        "    # 올바른지 확인합니다\n",
        "    #final_pred = output.max(1, keepdim=True)[1] # 로그 확률의 최대값을 가지는 인덱스를 얻습니다\n",
        "    #if final_pred.item() == data.y[data.test_mask].item():\n",
        "    #    correct += 1\n",
        "    #    # 0 엡실론 예제에 대해서 저장합니다\n",
        "    #    if (epsilon == 0) and (len(adv_examples) < 5):\n",
        "    #        adv_ex = perturbed_data.squeeze().detach().cpu().numpy()\n",
        "    #        adv_examples.append( (init_pred.item(), final_pred.item(), adv_ex) )\n",
        "    #else:\n",
        "        # 추후 시각화를 위하 다른 예제들을 저장합니다\n",
        "    #    if len(adv_examples) < 5:\n",
        "    #        adv_ex = perturbed_data.squeeze().detach().cpu().numpy()\n",
        "    #        adv_examples.append( (init_pred.item(), final_pred.item(), adv_ex) )\n",
        "\n",
        "\n",
        "    # 해당 엡실론에서의 최종 정확도를 계산합니다\n",
        "    final_acc = correct/float(len(loader))\n",
        "    print(\"Epsilon: {}\\tTest Accuracy = {} / {} = {}\".format(epsilon, correct, len(loader), final_acc))\n",
        "\n",
        "    # 정확도와 적대적 예제를 리턴합니다\n",
        "    return final_acc, adv_examples"
      ],
      "execution_count": 43,
      "outputs": []
    },
    {
      "cell_type": "code",
      "metadata": {
        "colab": {
          "base_uri": "https://localhost:8080/"
        },
        "id": "8PbggIN2HF2o",
        "outputId": "591596a0-e221-4eb2-cc23-ad4d774d4085"
      },
      "source": [
        "accuracies = []\n",
        "examples = []\n",
        "\n",
        "# 각 엡실론에 대해 테스트 함수를 실행합니다\n",
        "for eps in epsilons:\n",
        "    acc, ex = test(model, device, loader, eps)\n",
        "    accuracies.append(acc)\n",
        "    examples.append(ex)"
      ],
      "execution_count": 44,
      "outputs": [
        {
          "output_type": "stream",
          "text": [
            "Epsilon: 0\tTest Accuracy = 0 / 1 = 0.0\n",
            "Epsilon: 0.05\tTest Accuracy = 0 / 1 = 0.0\n",
            "Epsilon: 0.1\tTest Accuracy = 0 / 1 = 0.0\n",
            "Epsilon: 0.15\tTest Accuracy = 0 / 1 = 0.0\n",
            "Epsilon: 0.2\tTest Accuracy = 0 / 1 = 0.0\n",
            "Epsilon: 0.25\tTest Accuracy = 0 / 1 = 0.0\n",
            "Epsilon: 0.3\tTest Accuracy = 0 / 1 = 0.0\n"
          ],
          "name": "stdout"
        }
      ]
    }
  ]
}