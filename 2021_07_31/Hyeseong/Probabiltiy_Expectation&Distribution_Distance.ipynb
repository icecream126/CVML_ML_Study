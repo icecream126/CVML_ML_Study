{
  "nbformat": 4,
  "nbformat_minor": 0,
  "metadata": {
    "colab": {
      "name": "Probabiltiy Expectation & Distribution Distance.ipynb",
      "provenance": [],
      "collapsed_sections": [],
      "authorship_tag": "ABX9TyPteZxRflZNA9c8b/eBtoUj",
      "include_colab_link": true
    },
    "kernelspec": {
      "name": "python3",
      "display_name": "Python 3"
    },
    "language_info": {
      "name": "python"
    },
    "accelerator": "GPU"
  },
  "cells": [
    {
      "cell_type": "markdown",
      "metadata": {
        "id": "view-in-github",
        "colab_type": "text"
      },
      "source": [
        "<a href=\"https://colab.research.google.com/github/icecream126/CVML_ML_Study/blob/main/2021_07_31/Hyeseong/Probabiltiy_Expectation%26Distribution_Distance.ipynb\" target=\"_parent\"><img src=\"https://colab.research.google.com/assets/colab-badge.svg\" alt=\"Open In Colab\"/></a>"
      ]
    },
    {
      "cell_type": "markdown",
      "metadata": {
        "id": "kDvG19rJ8S3u"
      },
      "source": [
        "$X$ ~ $N(0, 1)$ \\\\\n",
        "$Y$ ~ $N(0, 2)$"
      ]
    },
    {
      "cell_type": "code",
      "metadata": {
        "id": "JfDMx2Nu8QZq"
      },
      "source": [
        "import torch\n",
        "import torch.nn as nn\n",
        "import torch.optim as optim\n",
        "import torch.nn.functional as F\n",
        "import numpy as np\n",
        "import matplotlib.pyplot as plt"
      ],
      "execution_count": null,
      "outputs": []
    },
    {
      "cell_type": "markdown",
      "metadata": {
        "id": "tAp9Lq2o8uaT"
      },
      "source": [
        "# 1. Plot\n",
        "\n",
        "$E(X)$, $E(Y)$, $E(XY)$, $||X-Y||_{\\alpha p}, where \\ 1 \\leq p \\leq 10$"
      ]
    },
    {
      "cell_type": "markdown",
      "metadata": {
        "id": "-T3h6yTkD_Vx"
      },
      "source": [
        "## Using torch.randn"
      ]
    },
    {
      "cell_type": "code",
      "metadata": {
        "id": "DtWcIyUKDa9i"
      },
      "source": [
        "X = torch.randn((1000, ))\n",
        "Y = torch.randn((1000, ))*(2**2)"
      ],
      "execution_count": null,
      "outputs": []
    },
    {
      "cell_type": "code",
      "metadata": {
        "colab": {
          "base_uri": "https://localhost:8080/"
        },
        "id": "--EFvUHJGNLY",
        "outputId": "ea5ba9cb-57bc-4d31-b3b5-dffbe9b68777"
      },
      "source": [
        "print(\"E(X): \", torch.mean(X))\n",
        "print(\"E(Y): \", torch.mean(Y))\n",
        "print(\"E(XY): \", torch.mean(X*Y))"
      ],
      "execution_count": null,
      "outputs": [
        {
          "output_type": "stream",
          "text": [
            "E(X):  tensor(0.0022)\n",
            "E(Y):  tensor(0.1062)\n",
            "E(XY):  tensor(-0.2147)\n"
          ],
          "name": "stdout"
        }
      ]
    },
    {
      "cell_type": "code",
      "metadata": {
        "colab": {
          "base_uri": "https://localhost:8080/",
          "height": 809
        },
        "id": "UOhk7NidLT82",
        "outputId": "0ac00a37-eeb6-46b8-c5c4-b34f7d97fcbb"
      },
      "source": [
        "x = [10**i for i in range(5)]\n",
        "y = [torch.mean(torch.randn((i, ))) for i in x]\n",
        "plt.plot(x, y)\n",
        "plt.title(\"E(X)\")\n",
        "plt.show()\n",
        "\n",
        "y = [torch.mean(torch.randn((i, ))*(2**2)) for i in x]\n",
        "plt.plot(x, y)\n",
        "plt.title(\"E(Y)\")\n",
        "plt.show()\n",
        "\n",
        "y = [torch.mean(torch.randn((i, )))*torch.mean(torch.randn((i, ))*(2**2)) for i in x]\n",
        "plt.plot(x, y)\n",
        "plt.title(\"E(XY)\")\n",
        "plt.show()"
      ],
      "execution_count": null,
      "outputs": [
        {
          "output_type": "display_data",
          "data": {
            "image/png": "[encoded data removed]",
            "text/plain": [
              "<Figure size 432x288 with 1 Axes>"
            ]
          },
          "metadata": {
            "tags": [],
            "needs_background": "light"
          }
        },
        {
          "output_type": "display_data",
          "data": {
            "image/png": "[encoded data removed]",
            "text/plain": [
              "<Figure size 432x288 with 1 Axes>"
            ]
          },
          "metadata": {
            "tags": [],
            "needs_background": "light"
          }
        },
        {
          "output_type": "display_data",
          "data": {
            "image/png": "[encoded data removed]",
            "text/plain": [
              "<Figure size 432x288 with 1 Axes>"
            ]
          },
          "metadata": {
            "tags": [],
            "needs_background": "light"
          }
        }
      ]
    },
    {
      "cell_type": "code",
      "metadata": {
        "colab": {
          "base_uri": "https://localhost:8080/",
          "height": 809
        },
        "id": "ApnQS5J23IqC",
        "outputId": "2ec6aebf-3661-470f-9b0a-e48bca2a40aa"
      },
      "source": [
        "x = [10**i for i in range(5)]\n",
        "y = [torch.mean(torch.randn((100, i))) for i in x]\n",
        "plt.plot(x, y)\n",
        "plt.title(\"E(X)\")\n",
        "plt.show()\n",
        "\n",
        "y = [torch.mean(torch.randn((100, i))*(2**2)) for i in x]\n",
        "plt.plot(x, y)\n",
        "plt.title(\"E(Y)\")\n",
        "plt.show()\n",
        "\n",
        "y = [torch.mean(torch.randn((100, i)))*torch.mean(torch.randn((i, ))*(2**2)) for i in x]\n",
        "plt.plot(x, y)\n",
        "plt.title(\"E(XY)\")\n",
        "plt.show()"
      ],
      "execution_count": null,
      "outputs": [
        {
          "output_type": "display_data",
          "data": {
            "image/png": "[encoded data removed]",
            "text/plain": [
              "<Figure size 432x288 with 1 Axes>"
            ]
          },
          "metadata": {
            "tags": [],
            "needs_background": "light"
          }
        },
        {
          "output_type": "display_data",
          "data": {
            "image/png": "[encoded data removed]",
            "text/plain": [
              "<Figure size 432x288 with 1 Axes>"
            ]
          },
          "metadata": {
            "tags": [],
            "needs_background": "light"
          }
        },
        {
          "output_type": "display_data",
          "data": {
            "image/png": "[encoded data removed]",
            "text/plain": [
              "<Figure size 432x288 with 1 Axes>"
            ]
          },
          "metadata": {
            "tags": [],
            "needs_background": "light"
          }
        }
      ]
    },
    {
      "cell_type": "markdown",
      "metadata": {
        "id": "1Tmev2NxNx5t"
      },
      "source": [
        "Convergence to 0."
      ]
    },
    {
      "cell_type": "code",
      "metadata": {
        "colab": {
          "base_uri": "https://localhost:8080/",
          "height": 281
        },
        "id": "ZfUUyJV1G5M1",
        "outputId": "a7d96b85-4b55-4959-fe1f-9e6bdb1befe6"
      },
      "source": [
        "x = [i+1 for i in range(10)]\n",
        "y = [torch.norm((X-Y), i) for i in x]\n",
        "plt.plot(x, y)\n",
        "plt.title(\"L-p norm\")\n",
        "plt.show()"
      ],
      "execution_count": null,
      "outputs": [
        {
          "output_type": "display_data",
          "data": {
            "image/png": "[encoded data removed]",
            "text/plain": [
              "<Figure size 432x288 with 1 Axes>"
            ]
          },
          "metadata": {
            "tags": [],
            "needs_background": "light"
          }
        }
      ]
    },
    {
      "cell_type": "markdown",
      "metadata": {
        "id": "cKboTPZoKuaf"
      },
      "source": [
        "Convergence to 0 at $p\\geq 2$."
      ]
    },
    {
      "cell_type": "markdown",
      "metadata": {
        "id": "RndhKoqtKERJ"
      },
      "source": [
        "# 2. Learning NN"
      ]
    },
    {
      "cell_type": "code",
      "metadata": {
        "id": "oozlWd-LTl-J"
      },
      "source": [
        "device = torch.device(\"cuda:0\" if torch.cuda.is_available() else \"cpu\")"
      ],
      "execution_count": null,
      "outputs": []
    },
    {
      "cell_type": "code",
      "metadata": {
        "id": "G4QPWXRSKLVP"
      },
      "source": [
        "X = torch.randn((10000, 3))*2\n",
        "Y = (torch.randn(10000, 3)*2+1)+(torch.randn(10000, 3)*3+2)\n",
        "target = torch.randint(0, 5, (10000, 1), dtype=torch.float32).to(device)\n",
        "X = X.to(device)\n",
        "Y = Y.to(device)"
      ],
      "execution_count": null,
      "outputs": []
    },
    {
      "cell_type": "code",
      "metadata": {
        "id": "7QqzOh6_SqFn"
      },
      "source": [
        "class Model(nn.Module):\n",
        "    def __init__(self):\n",
        "        super(Model, self).__init__()\n",
        "        self.fc1 = nn.Linear(3, 4)\n",
        "        self.fc2 = nn.Linear(4, 4)\n",
        "        self.fc3 = nn.Linear(4, 2)\n",
        "\n",
        "    def forward(self, x):\n",
        "        x = F.relu(self.fc1(x))\n",
        "        x = F.relu(self.fc2(x))\n",
        "        x = self.fc3(x)\n",
        "        return x"
      ],
      "execution_count": null,
      "outputs": []
    },
    {
      "cell_type": "code",
      "metadata": {
        "id": "3QFtw9UGUUMi"
      },
      "source": [
        "model = Model().to(device)"
      ],
      "execution_count": null,
      "outputs": []
    },
    {
      "cell_type": "code",
      "metadata": {
        "id": "DBFnfzD56xmV"
      },
      "source": [
        "optimizer = optim.SGD(model.parameters(), lr = 0.01)"
      ],
      "execution_count": null,
      "outputs": []
    },
    {
      "cell_type": "code",
      "metadata": {
        "colab": {
          "base_uri": "https://localhost:8080/"
        },
        "id": "aqtnkTxyUgR-",
        "outputId": "a51bcde0-f600-4b78-8d57-33948d2923f7"
      },
      "source": [
        "num_epoch=300\n",
        "losses = []\n",
        "\n",
        "for epoch in range(num_epoch):\n",
        "    model.train()\n",
        "\n",
        "    optimizer.zero_grad()\n",
        "\n",
        "    output_X = model(X).to(device)\n",
        "    output_Y = model(Y).to(device)\n",
        "\n",
        "    loss = F.mse_loss(torch.abs(output_X.mean()-output_Y.mean()), target)\n",
        "    loss.backward()\n",
        "    optimizer.step()\n",
        "\n",
        "    print(f\"[{epoch}/{num_epoch}] loss: {loss.item()}\")\n",
        "\n",
        "    losses.append(loss.item())"
      ],
      "execution_count": null,
      "outputs": [
        {
          "output_type": "stream",
          "text": [
            "/usr/local/lib/python3.7/dist-packages/ipykernel_launcher.py:12: UserWarning: Using a target size (torch.Size([10000, 1])) that is different to the input size (torch.Size([])). This will likely lead to incorrect results due to broadcasting. Please ensure they have the same size.\n",
            "  if sys.path[0] == '':\n"
          ],
          "name": "stderr"
        },
        {
          "output_type": "stream",
          "text": [
            "[0/300] loss: 2.002311944961548\n",
            "[1/300] loss: 2.0022780895233154\n",
            "[2/300] loss: 2.002263069152832\n",
            "[3/300] loss: 2.002256155014038\n",
            "[4/300] loss: 2.002253532409668\n",
            "[5/300] loss: 2.0022521018981934\n",
            "[6/300] loss: 2.002251625061035\n",
            "[7/300] loss: 2.002251148223877\n",
            "[8/300] loss: 2.002251148223877\n",
            "[9/300] loss: 2.002251148223877\n",
            "[10/300] loss: 2.002251386642456\n",
            "[11/300] loss: 2.002251148223877\n",
            "[12/300] loss: 2.002251148223877\n",
            "[13/300] loss: 2.002251148223877\n",
            "[14/300] loss: 2.002251148223877\n",
            "[15/300] loss: 2.002251148223877\n",
            "[16/300] loss: 2.002251386642456\n",
            "[17/300] loss: 2.002251148223877\n",
            "[18/300] loss: 2.002251148223877\n",
            "[19/300] loss: 2.002251148223877\n",
            "[20/300] loss: 2.002251148223877\n",
            "[21/300] loss: 2.002251148223877\n",
            "[22/300] loss: 2.002251148223877\n",
            "[23/300] loss: 2.002251148223877\n",
            "[24/300] loss: 2.002251148223877\n",
            "[25/300] loss: 2.002251148223877\n",
            "[26/300] loss: 2.002251148223877\n",
            "[27/300] loss: 2.002251148223877\n",
            "[28/300] loss: 2.002251148223877\n",
            "[29/300] loss: 2.002251148223877\n",
            "[30/300] loss: 2.002251148223877\n",
            "[31/300] loss: 2.002251148223877\n",
            "[32/300] loss: 2.002251148223877\n",
            "[33/300] loss: 2.002251148223877\n",
            "[34/300] loss: 2.002251148223877\n",
            "[35/300] loss: 2.002251148223877\n",
            "[36/300] loss: 2.002251148223877\n",
            "[37/300] loss: 2.002251148223877\n",
            "[38/300] loss: 2.002251148223877\n",
            "[39/300] loss: 2.002251148223877\n",
            "[40/300] loss: 2.002251148223877\n",
            "[41/300] loss: 2.002251148223877\n",
            "[42/300] loss: 2.002251148223877\n",
            "[43/300] loss: 2.002251148223877\n",
            "[44/300] loss: 2.002251148223877\n",
            "[45/300] loss: 2.002251148223877\n",
            "[46/300] loss: 2.002251148223877\n",
            "[47/300] loss: 2.002251148223877\n",
            "[48/300] loss: 2.002251148223877\n",
            "[49/300] loss: 2.002251148223877\n",
            "[50/300] loss: 2.002251148223877\n",
            "[51/300] loss: 2.002251148223877\n",
            "[52/300] loss: 2.002251148223877\n",
            "[53/300] loss: 2.002251148223877\n",
            "[54/300] loss: 2.002251148223877\n",
            "[55/300] loss: 2.002251148223877\n",
            "[56/300] loss: 2.002251148223877\n",
            "[57/300] loss: 2.002251148223877\n",
            "[58/300] loss: 2.002251148223877\n",
            "[59/300] loss: 2.002251148223877\n",
            "[60/300] loss: 2.002251148223877\n",
            "[61/300] loss: 2.002251148223877\n",
            "[62/300] loss: 2.002251148223877\n",
            "[63/300] loss: 2.002251148223877\n",
            "[64/300] loss: 2.002251148223877\n",
            "[65/300] loss: 2.002251148223877\n",
            "[66/300] loss: 2.002251148223877\n",
            "[67/300] loss: 2.002251148223877\n",
            "[68/300] loss: 2.002251148223877\n",
            "[69/300] loss: 2.002251148223877\n",
            "[70/300] loss: 2.002251148223877\n",
            "[71/300] loss: 2.002251148223877\n",
            "[72/300] loss: 2.002251148223877\n",
            "[73/300] loss: 2.002251148223877\n",
            "[74/300] loss: 2.002251148223877\n",
            "[75/300] loss: 2.002251148223877\n",
            "[76/300] loss: 2.002251148223877\n",
            "[77/300] loss: 2.002251148223877\n",
            "[78/300] loss: 2.002251148223877\n",
            "[79/300] loss: 2.002251148223877\n",
            "[80/300] loss: 2.002251148223877\n",
            "[81/300] loss: 2.002251148223877\n",
            "[82/300] loss: 2.002251148223877\n",
            "[83/300] loss: 2.002251148223877\n",
            "[84/300] loss: 2.002251148223877\n",
            "[85/300] loss: 2.002251148223877\n",
            "[86/300] loss: 2.002251148223877\n",
            "[87/300] loss: 2.002251148223877\n",
            "[88/300] loss: 2.002251148223877\n",
            "[89/300] loss: 2.002251148223877\n",
            "[90/300] loss: 2.002251148223877\n",
            "[91/300] loss: 2.002251148223877\n",
            "[92/300] loss: 2.002251148223877\n",
            "[93/300] loss: 2.002251148223877\n",
            "[94/300] loss: 2.002251148223877\n",
            "[95/300] loss: 2.002251148223877\n",
            "[96/300] loss: 2.002251148223877\n",
            "[97/300] loss: 2.002251148223877\n",
            "[98/300] loss: 2.002251148223877\n",
            "[99/300] loss: 2.002251148223877\n",
            "[100/300] loss: 2.002251148223877\n",
            "[101/300] loss: 2.002251148223877\n",
            "[102/300] loss: 2.002251148223877\n",
            "[103/300] loss: 2.002251148223877\n",
            "[104/300] loss: 2.002251148223877\n",
            "[105/300] loss: 2.002251148223877\n",
            "[106/300] loss: 2.002251148223877\n",
            "[107/300] loss: 2.002251148223877\n",
            "[108/300] loss: 2.002251148223877\n",
            "[109/300] loss: 2.002251148223877\n",
            "[110/300] loss: 2.002251148223877\n",
            "[111/300] loss: 2.002251148223877\n",
            "[112/300] loss: 2.002251148223877\n",
            "[113/300] loss: 2.002251148223877\n",
            "[114/300] loss: 2.002251148223877\n",
            "[115/300] loss: 2.002251148223877\n",
            "[116/300] loss: 2.002251148223877\n",
            "[117/300] loss: 2.002251148223877\n",
            "[118/300] loss: 2.002251148223877\n",
            "[119/300] loss: 2.002251148223877\n",
            "[120/300] loss: 2.002251148223877\n",
            "[121/300] loss: 2.002251148223877\n",
            "[122/300] loss: 2.002251148223877\n",
            "[123/300] loss: 2.002251148223877\n",
            "[124/300] loss: 2.002251148223877\n",
            "[125/300] loss: 2.002251148223877\n",
            "[126/300] loss: 2.002251148223877\n",
            "[127/300] loss: 2.002251148223877\n",
            "[128/300] loss: 2.002251148223877\n",
            "[129/300] loss: 2.002251148223877\n",
            "[130/300] loss: 2.002251148223877\n",
            "[131/300] loss: 2.002251148223877\n",
            "[132/300] loss: 2.002251148223877\n",
            "[133/300] loss: 2.002251148223877\n",
            "[134/300] loss: 2.002251148223877\n",
            "[135/300] loss: 2.002251148223877\n",
            "[136/300] loss: 2.002251148223877\n",
            "[137/300] loss: 2.002251148223877\n",
            "[138/300] loss: 2.002251148223877\n",
            "[139/300] loss: 2.002251148223877\n",
            "[140/300] loss: 2.002251148223877\n",
            "[141/300] loss: 2.002251148223877\n",
            "[142/300] loss: 2.002251148223877\n",
            "[143/300] loss: 2.002251148223877\n",
            "[144/300] loss: 2.002251148223877\n",
            "[145/300] loss: 2.002251148223877\n",
            "[146/300] loss: 2.002251148223877\n",
            "[147/300] loss: 2.002251148223877\n",
            "[148/300] loss: 2.002251148223877\n",
            "[149/300] loss: 2.002251148223877\n",
            "[150/300] loss: 2.002251148223877\n",
            "[151/300] loss: 2.002251148223877\n",
            "[152/300] loss: 2.002251148223877\n",
            "[153/300] loss: 2.002251148223877\n",
            "[154/300] loss: 2.002251148223877\n",
            "[155/300] loss: 2.002251148223877\n",
            "[156/300] loss: 2.002251148223877\n",
            "[157/300] loss: 2.002251148223877\n",
            "[158/300] loss: 2.002251148223877\n",
            "[159/300] loss: 2.002251148223877\n",
            "[160/300] loss: 2.002251148223877\n",
            "[161/300] loss: 2.002251148223877\n",
            "[162/300] loss: 2.002251148223877\n",
            "[163/300] loss: 2.002251148223877\n",
            "[164/300] loss: 2.002251148223877\n",
            "[165/300] loss: 2.002251148223877\n",
            "[166/300] loss: 2.002251148223877\n",
            "[167/300] loss: 2.002251148223877\n",
            "[168/300] loss: 2.002251148223877\n",
            "[169/300] loss: 2.002251148223877\n",
            "[170/300] loss: 2.002251148223877\n",
            "[171/300] loss: 2.002251148223877\n",
            "[172/300] loss: 2.002251148223877\n",
            "[173/300] loss: 2.002251148223877\n",
            "[174/300] loss: 2.002251148223877\n",
            "[175/300] loss: 2.002251148223877\n",
            "[176/300] loss: 2.002251148223877\n",
            "[177/300] loss: 2.002251148223877\n",
            "[178/300] loss: 2.002251148223877\n",
            "[179/300] loss: 2.002251148223877\n",
            "[180/300] loss: 2.002251148223877\n",
            "[181/300] loss: 2.002251148223877\n",
            "[182/300] loss: 2.002251148223877\n",
            "[183/300] loss: 2.002251148223877\n",
            "[184/300] loss: 2.002251148223877\n",
            "[185/300] loss: 2.002251148223877\n",
            "[186/300] loss: 2.002251148223877\n",
            "[187/300] loss: 2.002251148223877\n",
            "[188/300] loss: 2.002251148223877\n",
            "[189/300] loss: 2.002251148223877\n",
            "[190/300] loss: 2.002251148223877\n",
            "[191/300] loss: 2.002251148223877\n",
            "[192/300] loss: 2.002251148223877\n",
            "[193/300] loss: 2.002251148223877\n",
            "[194/300] loss: 2.002251148223877\n",
            "[195/300] loss: 2.002251148223877\n",
            "[196/300] loss: 2.002251148223877\n",
            "[197/300] loss: 2.002251148223877\n",
            "[198/300] loss: 2.002251148223877\n",
            "[199/300] loss: 2.002251148223877\n",
            "[200/300] loss: 2.002251148223877\n",
            "[201/300] loss: 2.002251148223877\n",
            "[202/300] loss: 2.002251148223877\n",
            "[203/300] loss: 2.002251148223877\n",
            "[204/300] loss: 2.002251148223877\n",
            "[205/300] loss: 2.002251148223877\n",
            "[206/300] loss: 2.002251148223877\n",
            "[207/300] loss: 2.002251148223877\n",
            "[208/300] loss: 2.002251148223877\n",
            "[209/300] loss: 2.002251148223877\n",
            "[210/300] loss: 2.002251148223877\n",
            "[211/300] loss: 2.002251148223877\n",
            "[212/300] loss: 2.002251148223877\n",
            "[213/300] loss: 2.002251148223877\n",
            "[214/300] loss: 2.002251148223877\n",
            "[215/300] loss: 2.002251148223877\n",
            "[216/300] loss: 2.002251148223877\n",
            "[217/300] loss: 2.002251148223877\n",
            "[218/300] loss: 2.002251148223877\n",
            "[219/300] loss: 2.002251148223877\n",
            "[220/300] loss: 2.002251148223877\n",
            "[221/300] loss: 2.002251148223877\n",
            "[222/300] loss: 2.002251148223877\n",
            "[223/300] loss: 2.002251148223877\n",
            "[224/300] loss: 2.002251148223877\n",
            "[225/300] loss: 2.002251148223877\n",
            "[226/300] loss: 2.002251148223877\n",
            "[227/300] loss: 2.002251148223877\n",
            "[228/300] loss: 2.002251148223877\n",
            "[229/300] loss: 2.002251148223877\n",
            "[230/300] loss: 2.002251148223877\n",
            "[231/300] loss: 2.002251148223877\n",
            "[232/300] loss: 2.002251148223877\n",
            "[233/300] loss: 2.002251148223877\n",
            "[234/300] loss: 2.002251148223877\n",
            "[235/300] loss: 2.002251148223877\n",
            "[236/300] loss: 2.002251148223877\n",
            "[237/300] loss: 2.002251148223877\n",
            "[238/300] loss: 2.002251148223877\n",
            "[239/300] loss: 2.002251148223877\n",
            "[240/300] loss: 2.002251148223877\n",
            "[241/300] loss: 2.002251148223877\n",
            "[242/300] loss: 2.002251148223877\n",
            "[243/300] loss: 2.002251148223877\n",
            "[244/300] loss: 2.002251148223877\n",
            "[245/300] loss: 2.002251148223877\n",
            "[246/300] loss: 2.002251148223877\n",
            "[247/300] loss: 2.002251148223877\n",
            "[248/300] loss: 2.002251148223877\n",
            "[249/300] loss: 2.002251148223877\n",
            "[250/300] loss: 2.002251148223877\n",
            "[251/300] loss: 2.002251148223877\n",
            "[252/300] loss: 2.002251148223877\n",
            "[253/300] loss: 2.002251148223877\n",
            "[254/300] loss: 2.002251148223877\n",
            "[255/300] loss: 2.002251148223877\n",
            "[256/300] loss: 2.002251148223877\n",
            "[257/300] loss: 2.002251148223877\n",
            "[258/300] loss: 2.002251148223877\n",
            "[259/300] loss: 2.002251148223877\n",
            "[260/300] loss: 2.002251148223877\n",
            "[261/300] loss: 2.002251148223877\n",
            "[262/300] loss: 2.002251148223877\n",
            "[263/300] loss: 2.002251148223877\n",
            "[264/300] loss: 2.002251148223877\n",
            "[265/300] loss: 2.002251148223877\n",
            "[266/300] loss: 2.002251148223877\n",
            "[267/300] loss: 2.002251148223877\n",
            "[268/300] loss: 2.002251148223877\n",
            "[269/300] loss: 2.002251148223877\n",
            "[270/300] loss: 2.002251148223877\n",
            "[271/300] loss: 2.002251148223877\n",
            "[272/300] loss: 2.002251148223877\n",
            "[273/300] loss: 2.002251148223877\n",
            "[274/300] loss: 2.002251148223877\n",
            "[275/300] loss: 2.002251148223877\n",
            "[276/300] loss: 2.002251148223877\n",
            "[277/300] loss: 2.002251148223877\n",
            "[278/300] loss: 2.002251148223877\n",
            "[279/300] loss: 2.002251148223877\n",
            "[280/300] loss: 2.002251148223877\n",
            "[281/300] loss: 2.002251148223877\n",
            "[282/300] loss: 2.002251148223877\n",
            "[283/300] loss: 2.002251148223877\n",
            "[284/300] loss: 2.002251148223877\n",
            "[285/300] loss: 2.002251148223877\n",
            "[286/300] loss: 2.002251148223877\n",
            "[287/300] loss: 2.002251148223877\n",
            "[288/300] loss: 2.002251148223877\n",
            "[289/300] loss: 2.002251148223877\n",
            "[290/300] loss: 2.002251148223877\n",
            "[291/300] loss: 2.002251148223877\n",
            "[292/300] loss: 2.002251148223877\n",
            "[293/300] loss: 2.002251148223877\n",
            "[294/300] loss: 2.002251148223877\n",
            "[295/300] loss: 2.002251148223877\n",
            "[296/300] loss: 2.002251148223877\n",
            "[297/300] loss: 2.002251148223877\n",
            "[298/300] loss: 2.002251148223877\n",
            "[299/300] loss: 2.002251148223877\n"
          ],
          "name": "stdout"
        }
      ]
    },
    {
      "cell_type": "code",
      "metadata": {
        "colab": {
          "base_uri": "https://localhost:8080/",
          "height": 281
        },
        "id": "8coMTVOFtaWO",
        "outputId": "5679504b-011e-40ed-902a-7a330842543d"
      },
      "source": [
        "plt.plot(losses);\n",
        "plt.title(\"train loss\");"
      ],
      "execution_count": null,
      "outputs": [
        {
          "output_type": "display_data",
          "data": {
            "image/png": "[encoded data removed]",
            "text/plain": [
              "<Figure size 432x288 with 1 Axes>"
            ]
          },
          "metadata": {
            "tags": [],
            "needs_background": "light"
          }
        }
      ]
    }
  ]
}