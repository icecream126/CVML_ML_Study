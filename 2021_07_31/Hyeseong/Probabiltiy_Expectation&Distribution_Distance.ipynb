{
  "nbformat": 4,
  "nbformat_minor": 0,
  "metadata": {
    "colab": {
      "name": "Probabiltiy Expectation & Distribution Distance.ipynb",
      "provenance": [],
      "collapsed_sections": [],
      "authorship_tag": "ABX9TyPSBgOCAvWWPKLTa8kCFnhG",
      "include_colab_link": true
    },
    "kernelspec": {
      "name": "python3",
      "display_name": "Python 3"
    },
    "language_info": {
      "name": "python"
    },
    "accelerator": "GPU"
  },
  "cells": [
    {
      "cell_type": "markdown",
      "metadata": {
        "id": "view-in-github",
        "colab_type": "text"
      },
      "source": [
        "<a href=\"https://colab.research.google.com/github/icecream126/CVML_ML_Study/blob/main/2021_07_31/Hyeseong/Probabiltiy_Expectation%26Distribution_Distance.ipynb\" target=\"_parent\"><img src=\"https://colab.research.google.com/assets/colab-badge.svg\" alt=\"Open In Colab\"/></a>"
      ]
    },
    {
      "cell_type": "code",
      "metadata": {
        "id": "JfDMx2Nu8QZq"
      },
      "source": [
        "import torch\n",
        "import torch.nn as nn\n",
        "import torch.optim as optim\n",
        "import torch.nn.functional as F\n",
        "import numpy as np\n",
        "import matplotlib.pyplot as plt"
      ],
      "execution_count": 38,
      "outputs": []
    },
    {
      "cell_type": "code",
      "metadata": {
        "id": "yPOwqE0LNQpF"
      },
      "source": [
        "np.random.seed(0)"
      ],
      "execution_count": 39,
      "outputs": []
    },
    {
      "cell_type": "markdown",
      "metadata": {
        "id": "tAp9Lq2o8uaT"
      },
      "source": [
        "# 1. Plot\n",
        "\n",
        "$X$ ~ $N(0, 1^2)$ \\\\\n",
        "$Y$ ~ $N(0, 2^2)$ \\\\\n",
        "\n",
        "\\\\\n",
        "* $E(X)$, $E(Y)$\n",
        "* $E(XY)$\n",
        "* $||X-Y||_{\\alpha p}, where \\ 1 \\leq p \\leq 10$"
      ]
    },
    {
      "cell_type": "markdown",
      "metadata": {
        "id": "V7AW2Lv_Nn7U"
      },
      "source": [
        "## 1.1. Implementation"
      ]
    },
    {
      "cell_type": "markdown",
      "metadata": {
        "id": "EcXiZTHHO0tK"
      },
      "source": [
        "* `Probability Density Function` (PDF): 확률 밀도 함수, 특정 구간에 속할 확률\n",
        "* `Probability Density Function` in `Normal Distribution`: $$\\frac{1}{\\sigma\\sqrt{2\\pi}}exp(-\\frac{(x-\\mu)^2}{2\\sigma^2})$$\n"
      ]
    },
    {
      "cell_type": "code",
      "metadata": {
        "id": "tX9UGUMVNoWm"
      },
      "source": [
        "def normal_pdf(mu, sigma):\n",
        "    return (1/np.sqrt(2*np.pi*sigma**2))*np.exp(-(x-mu)**2/(2*sigma**2))"
      ],
      "execution_count": 40,
      "outputs": []
    },
    {
      "cell_type": "code",
      "metadata": {
        "colab": {
          "base_uri": "https://localhost:8080/",
          "height": 295
        },
        "id": "zSP8twTvQwCc",
        "outputId": "926f5308-fadf-4170-f3a1-666b08e23f54"
      },
      "source": [
        "x = np.linspace(-8, 8, 1000)\n",
        "y1 = normal_pdf(0.0, 1.0)\n",
        "y2 = normal_pdf(0.0, 2.0)\n",
        "\n",
        "plt.title('Probability Density Function in Normal Distribution')\n",
        "plt.plot(x, y1, label='N(0, 1)')\n",
        "plt.plot(x, y2, label='N(0, 2)')\n",
        "plt.xlabel('x')\n",
        "plt.ylabel('y')\n",
        "plt.legend(loc='upper left')\n",
        "plt.show()"
      ],
      "execution_count": 41,
      "outputs": [
        {
          "output_type": "display_data",
          "data": {
            "image/png": "[encoded data removed]",
            "text/plain": [
              "<Figure size 432x288 with 1 Axes>"
            ]
          },
          "metadata": {
            "tags": [],
            "needs_background": "light"
          }
        }
      ]
    },
    {
      "cell_type": "markdown",
      "metadata": {
        "id": "k3NTo2P8SYGp"
      },
      "source": [
        "### 1.1.1. $E(X), E(Y)$"
      ]
    },
    {
      "cell_type": "markdown",
      "metadata": {
        "id": "HUzPHHw5Unx3"
      },
      "source": [
        "* `Expectation` in `Normal Distribution`: $$\\int_b^a PDF dx$$ $$\\int_{-\\infty}^\\infty PDF dx$$"
      ]
    },
    {
      "cell_type": "code",
      "metadata": {
        "id": "JrRgt3y0SqgL"
      },
      "source": [
        "def expectation(x, pdf):\n",
        "    return sum(np.multiply(x, pdf))"
      ],
      "execution_count": 42,
      "outputs": []
    },
    {
      "cell_type": "code",
      "metadata": {
        "colab": {
          "base_uri": "https://localhost:8080/"
        },
        "id": "hXY4aybMWP5U",
        "outputId": "cd09412e-4619-4e47-9e09-d24bbc58b45f"
      },
      "source": [
        "print(\"E(X): \", expectation(x, y1))\n",
        "print(\"E(Y): \", expectation(x, y2))"
      ],
      "execution_count": 43,
      "outputs": [
        {
          "output_type": "stream",
          "text": [
            "E(X):  -9.83386745029233e-16\n",
            "E(Y):  6.405249594609863e-15\n"
          ],
          "name": "stdout"
        }
      ]
    },
    {
      "cell_type": "markdown",
      "metadata": {
        "id": "nXDvGla-W8o5"
      },
      "source": [
        "### 1.1.2. $E(XY)$"
      ]
    },
    {
      "cell_type": "code",
      "metadata": {
        "colab": {
          "base_uri": "https://localhost:8080/"
        },
        "id": "rF6H1Lm7XBQM",
        "outputId": "5484271b-35dc-4768-9e38-ea1c917a1706"
      },
      "source": [
        "print(\"E(XY): \", expectation(x, np.multiply(y1, y2)))"
      ],
      "execution_count": 44,
      "outputs": [
        {
          "output_type": "stream",
          "text": [
            "E(XY):  -2.863113221422735e-16\n"
          ],
          "name": "stdout"
        }
      ]
    },
    {
      "cell_type": "markdown",
      "metadata": {
        "id": "C_UYG-MNXhCh"
      },
      "source": [
        "### 1.1.3. $||X-Y||_{p}, where \\ 1 \\leq p \\leq 10$"
      ]
    },
    {
      "cell_type": "markdown",
      "metadata": {
        "id": "Pv_rd9NOXlcY"
      },
      "source": [
        "$$||X||_{p}=(\\int|X|^p\\mathbb{P}(\\omega))^{1/p}$$\n",
        "$$||X-Y||_{p}=(\\int|X-Y|^p\\mathbb{P}(\\omega))^{1/p}$$"
      ]
    },
    {
      "cell_type": "code",
      "metadata": {
        "id": "-MCx69K9Xf4I"
      },
      "source": [
        "def norm(x, y, p):\n",
        "    return sum(abs(y)**p)**(1/p)"
      ],
      "execution_count": 45,
      "outputs": []
    },
    {
      "cell_type": "code",
      "metadata": {
        "colab": {
          "base_uri": "https://localhost:8080/",
          "height": 312
        },
        "id": "PaceinLpZf6x",
        "outputId": "934d7540-79b1-4a03-e797-fb4842f3114b"
      },
      "source": [
        "x_1 = [i+1 for i in range(10)]\n",
        "plt.title('L-p Norm')\n",
        "plt.xlabel('p')\n",
        "plt.ylabel('y')\n",
        "plt.plot(x_1, [norm(x, y1-y2, p) for p in x_1])"
      ],
      "execution_count": 46,
      "outputs": [
        {
          "output_type": "execute_result",
          "data": {
            "text/plain": [
              "[<matplotlib.lines.Line2D at 0x7f53b27f79d0>]"
            ]
          },
          "metadata": {
            "tags": []
          },
          "execution_count": 46
        },
        {
          "output_type": "display_data",
          "data": {
            "image/png": "[encoded data removed]",
            "text/plain": [
              "<Figure size 432x288 with 1 Axes>"
            ]
          },
          "metadata": {
            "tags": [],
            "needs_background": "light"
          }
        }
      ]
    },
    {
      "cell_type": "markdown",
      "metadata": {
        "id": "9Fsg9gPoSljW"
      },
      "source": [
        "Convergence to 0 at $p\\geq 2$."
      ]
    },
    {
      "cell_type": "markdown",
      "metadata": {
        "id": "-T3h6yTkD_Vx"
      },
      "source": [
        "## Using torch.randn"
      ]
    },
    {
      "cell_type": "code",
      "metadata": {
        "id": "DtWcIyUKDa9i"
      },
      "source": [
        "X = torch.randn((1000, ))\n",
        "Y = torch.randn((1000, ))*(2**2)"
      ],
      "execution_count": 12,
      "outputs": []
    },
    {
      "cell_type": "code",
      "metadata": {
        "colab": {
          "base_uri": "https://localhost:8080/"
        },
        "id": "--EFvUHJGNLY",
        "outputId": "c0efebbe-0120-4cd1-b9eb-f5faec63b9ea"
      },
      "source": [
        "print(\"E(X): \", torch.mean(X))\n",
        "print(\"E(Y): \", torch.mean(Y))\n",
        "print(\"E(XY): \", torch.mean(X*Y))"
      ],
      "execution_count": 13,
      "outputs": [
        {
          "output_type": "stream",
          "text": [
            "E(X):  tensor(0.0441)\n",
            "E(Y):  tensor(-0.2233)\n",
            "E(XY):  tensor(0.0723)\n"
          ],
          "name": "stdout"
        }
      ]
    },
    {
      "cell_type": "code",
      "metadata": {
        "colab": {
          "base_uri": "https://localhost:8080/",
          "height": 809
        },
        "id": "UOhk7NidLT82",
        "outputId": "9df88bdc-fa4a-47a4-b832-eac93cb1d3d4"
      },
      "source": [
        "x = [10**i for i in range(5)]\n",
        "y = [torch.mean(torch.randn((i, ))) for i in x]\n",
        "plt.plot(x, y)\n",
        "plt.title(\"E(X)\")\n",
        "plt.show()\n",
        "\n",
        "y = [torch.mean(torch.randn((i, ))*(2**2)) for i in x]\n",
        "plt.plot(x, y)\n",
        "plt.title(\"E(Y)\")\n",
        "plt.show()\n",
        "\n",
        "y = [torch.mean(torch.randn((i, )))*torch.mean(torch.randn((i, ))*(2**2)) for i in x]\n",
        "plt.plot(x, y)\n",
        "plt.title(\"E(XY)\")\n",
        "plt.show()"
      ],
      "execution_count": 14,
      "outputs": [
        {
          "output_type": "display_data",
          "data": {
            "image/png": "[encoded data removed]",
            "text/plain": [
              "<Figure size 432x288 with 1 Axes>"
            ]
          },
          "metadata": {
            "tags": [],
            "needs_background": "light"
          }
        },
        {
          "output_type": "display_data",
          "data": {
            "image/png": "[encoded data removed]",
            "text/plain": [
              "<Figure size 432x288 with 1 Axes>"
            ]
          },
          "metadata": {
            "tags": [],
            "needs_background": "light"
          }
        },
        {
          "output_type": "display_data",
          "data": {
            "image/png": "[encoded data removed]",
            "text/plain": [
              "<Figure size 432x288 with 1 Axes>"
            ]
          },
          "metadata": {
            "tags": [],
            "needs_background": "light"
          }
        }
      ]
    },
    {
      "cell_type": "code",
      "metadata": {
        "colab": {
          "base_uri": "https://localhost:8080/",
          "height": 809
        },
        "id": "ApnQS5J23IqC",
        "outputId": "e91a962a-e138-4a18-eeaf-b0e9c9cbf835"
      },
      "source": [
        "x = [10**i for i in range(5)]\n",
        "y = [torch.mean(torch.randn((100, i))) for i in x]\n",
        "plt.plot(x, y)\n",
        "plt.title(\"E(X)\")\n",
        "plt.show()\n",
        "\n",
        "y = [torch.mean(torch.randn((100, i))*(2**2)) for i in x]\n",
        "plt.plot(x, y)\n",
        "plt.title(\"E(Y)\")\n",
        "plt.show()\n",
        "\n",
        "y = [torch.mean(torch.randn((100, i)))*torch.mean(torch.randn((i, ))*(2**2)) for i in x]\n",
        "plt.plot(x, y)\n",
        "plt.title(\"E(XY)\")\n",
        "plt.show()"
      ],
      "execution_count": 15,
      "outputs": [
        {
          "output_type": "display_data",
          "data": {
            "image/png": "[encoded data removed]",
            "text/plain": [
              "<Figure size 432x288 with 1 Axes>"
            ]
          },
          "metadata": {
            "tags": [],
            "needs_background": "light"
          }
        },
        {
          "output_type": "display_data",
          "data": {
            "image/png": "[encoded data removed]",
            "text/plain": [
              "<Figure size 432x288 with 1 Axes>"
            ]
          },
          "metadata": {
            "tags": [],
            "needs_background": "light"
          }
        },
        {
          "output_type": "display_data",
          "data": {
            "image/png": "[encoded data removed]",
            "text/plain": [
              "<Figure size 432x288 with 1 Axes>"
            ]
          },
          "metadata": {
            "tags": [],
            "needs_background": "light"
          }
        }
      ]
    },
    {
      "cell_type": "markdown",
      "metadata": {
        "id": "1Tmev2NxNx5t"
      },
      "source": [
        "Convergence to 0."
      ]
    },
    {
      "cell_type": "code",
      "metadata": {
        "colab": {
          "base_uri": "https://localhost:8080/",
          "height": 281
        },
        "id": "ZfUUyJV1G5M1",
        "outputId": "bf1e1b5c-b4c3-4ebd-bf5d-b7d60e87b205"
      },
      "source": [
        "x = [i+1 for i in range(10)]\n",
        "y = [torch.norm((X-Y), i) for i in x]\n",
        "plt.plot(x, y)\n",
        "plt.title(\"L-p norm\")\n",
        "plt.show()"
      ],
      "execution_count": 16,
      "outputs": [
        {
          "output_type": "display_data",
          "data": {
            "image/png": "[encoded data removed]",
            "text/plain": [
              "<Figure size 432x288 with 1 Axes>"
            ]
          },
          "metadata": {
            "tags": [],
            "needs_background": "light"
          }
        }
      ]
    },
    {
      "cell_type": "markdown",
      "metadata": {
        "id": "cKboTPZoKuaf"
      },
      "source": [
        "Convergence to 0 at $p\\geq 2$."
      ]
    },
    {
      "cell_type": "markdown",
      "metadata": {
        "id": "RndhKoqtKERJ"
      },
      "source": [
        "# 2. Learning NN"
      ]
    },
    {
      "cell_type": "code",
      "metadata": {
        "id": "oozlWd-LTl-J"
      },
      "source": [
        "device = torch.device(\"cuda:0\" if torch.cuda.is_available() else \"cpu\")"
      ],
      "execution_count": 31,
      "outputs": []
    },
    {
      "cell_type": "code",
      "metadata": {
        "id": "G4QPWXRSKLVP"
      },
      "source": [
        "X = torch.randn((10000, 3))*2\n",
        "Y = (torch.randn(10000, 3)*2+1)+(torch.randn(10000, 3)*3+2)\n",
        "target = torch.randint(0, 5, (10000, 1), dtype=torch.float32).to(device)\n",
        "X = X.to(device)\n",
        "Y = Y.to(device)"
      ],
      "execution_count": 32,
      "outputs": []
    },
    {
      "cell_type": "code",
      "metadata": {
        "id": "7QqzOh6_SqFn"
      },
      "source": [
        "class Model(nn.Module):\n",
        "    def __init__(self):\n",
        "        super(Model, self).__init__()\n",
        "        self.fc1 = nn.Linear(3, 4)\n",
        "        self.fc2 = nn.Linear(4, 4)\n",
        "        self.fc3 = nn.Linear(4, 2)\n",
        "\n",
        "    def forward(self, x):\n",
        "        x = F.relu(self.fc1(x))\n",
        "        x = F.relu(self.fc2(x))\n",
        "        x = self.fc3(x)\n",
        "        return x"
      ],
      "execution_count": 33,
      "outputs": []
    },
    {
      "cell_type": "code",
      "metadata": {
        "id": "3QFtw9UGUUMi"
      },
      "source": [
        "model = Model().to(device)"
      ],
      "execution_count": 34,
      "outputs": []
    },
    {
      "cell_type": "code",
      "metadata": {
        "id": "DBFnfzD56xmV"
      },
      "source": [
        "optimizer = optim.SGD(model.parameters(), lr = 0.01)"
      ],
      "execution_count": 35,
      "outputs": []
    },
    {
      "cell_type": "code",
      "metadata": {
        "colab": {
          "base_uri": "https://localhost:8080/"
        },
        "id": "aqtnkTxyUgR-",
        "outputId": "ef607a74-60e8-4e7c-88db-8bf0aa87c0de"
      },
      "source": [
        "num_epoch=300\n",
        "losses = []\n",
        "\n",
        "for epoch in range(num_epoch):\n",
        "    model.train()\n",
        "\n",
        "    optimizer.zero_grad()\n",
        "\n",
        "    output_X = model(X).to(device)\n",
        "    output_Y = model(Y).to(device)\n",
        "\n",
        "    loss = F.mse_loss(torch.abs(output_X.mean()-output_Y.mean()), target)\n",
        "    loss.backward()\n",
        "    optimizer.step()\n",
        "\n",
        "    print(f\"[{epoch}/{num_epoch}] loss: {loss.item()}\")\n",
        "\n",
        "    losses.append(loss.item())"
      ],
      "execution_count": 36,
      "outputs": [
        {
          "output_type": "stream",
          "text": [
            "/usr/local/lib/python3.7/dist-packages/ipykernel_launcher.py:12: UserWarning: Using a target size (torch.Size([10000, 1])) that is different to the input size (torch.Size([])). This will likely lead to incorrect results due to broadcasting. Please ensure they have the same size.\n",
            "  if sys.path[0] == '':\n"
          ],
          "name": "stderr"
        },
        {
          "output_type": "stream",
          "text": [
            "[0/300] loss: 5.966793537139893\n",
            "[1/300] loss: 5.826694965362549\n",
            "[2/300] loss: 5.683732509613037\n",
            "[3/300] loss: 5.53252649307251\n",
            "[4/300] loss: 5.368143081665039\n",
            "[5/300] loss: 5.185943126678467\n",
            "[6/300] loss: 4.981794357299805\n",
            "[7/300] loss: 4.751654148101807\n",
            "[8/300] loss: 4.493222713470459\n",
            "[9/300] loss: 4.206022262573242\n",
            "[10/300] loss: 3.8939123153686523\n",
            "[11/300] loss: 3.5655698776245117\n",
            "[12/300] loss: 3.234941005706787\n",
            "[13/300] loss: 2.920650005340576\n",
            "[14/300] loss: 2.6422033309936523\n",
            "[15/300] loss: 2.415546178817749\n",
            "[16/300] loss: 2.2477054595947266\n",
            "[17/300] loss: 2.135362386703491\n",
            "[18/300] loss: 2.0672502517700195\n",
            "[19/300] loss: 2.0295066833496094\n",
            "[20/300] loss: 2.0101070404052734\n",
            "[21/300] loss: 2.0007245540618896\n",
            "[22/300] loss: 1.996389627456665\n",
            "[23/300] loss: 1.9944517612457275\n",
            "[24/300] loss: 1.9936050176620483\n",
            "[25/300] loss: 1.9932409524917603\n",
            "[26/300] loss: 1.9930858612060547\n",
            "[27/300] loss: 1.9930204153060913\n",
            "[28/300] loss: 1.992992877960205\n",
            "[29/300] loss: 1.992981195449829\n",
            "[30/300] loss: 1.9929763078689575\n",
            "[31/300] loss: 1.9929744005203247\n",
            "[32/300] loss: 1.9929735660552979\n",
            "[33/300] loss: 1.99297297000885\n",
            "[34/300] loss: 1.99297297000885\n",
            "[35/300] loss: 1.9929728507995605\n",
            "[36/300] loss: 1.99297297000885\n",
            "[37/300] loss: 1.99297297000885\n",
            "[38/300] loss: 1.99297297000885\n",
            "[39/300] loss: 1.99297297000885\n",
            "[40/300] loss: 1.9929728507995605\n",
            "[41/300] loss: 1.99297297000885\n",
            "[42/300] loss: 1.9929728507995605\n",
            "[43/300] loss: 1.99297297000885\n",
            "[44/300] loss: 1.99297297000885\n",
            "[45/300] loss: 1.99297297000885\n",
            "[46/300] loss: 1.99297297000885\n",
            "[47/300] loss: 1.99297297000885\n",
            "[48/300] loss: 1.9929728507995605\n",
            "[49/300] loss: 1.99297297000885\n",
            "[50/300] loss: 1.99297297000885\n",
            "[51/300] loss: 1.99297297000885\n",
            "[52/300] loss: 1.99297297000885\n",
            "[53/300] loss: 1.99297297000885\n",
            "[54/300] loss: 1.99297297000885\n",
            "[55/300] loss: 1.99297297000885\n",
            "[56/300] loss: 1.99297297000885\n",
            "[57/300] loss: 1.99297297000885\n",
            "[58/300] loss: 1.99297297000885\n",
            "[59/300] loss: 1.99297297000885\n",
            "[60/300] loss: 1.99297297000885\n",
            "[61/300] loss: 1.99297297000885\n",
            "[62/300] loss: 1.99297297000885\n",
            "[63/300] loss: 1.99297297000885\n",
            "[64/300] loss: 1.99297297000885\n",
            "[65/300] loss: 1.99297297000885\n",
            "[66/300] loss: 1.99297297000885\n",
            "[67/300] loss: 1.99297297000885\n",
            "[68/300] loss: 1.99297297000885\n",
            "[69/300] loss: 1.99297297000885\n",
            "[70/300] loss: 1.99297297000885\n",
            "[71/300] loss: 1.99297297000885\n",
            "[72/300] loss: 1.99297297000885\n",
            "[73/300] loss: 1.99297297000885\n",
            "[74/300] loss: 1.99297297000885\n",
            "[75/300] loss: 1.99297297000885\n",
            "[76/300] loss: 1.99297297000885\n",
            "[77/300] loss: 1.99297297000885\n",
            "[78/300] loss: 1.99297297000885\n",
            "[79/300] loss: 1.99297297000885\n",
            "[80/300] loss: 1.99297297000885\n",
            "[81/300] loss: 1.99297297000885\n",
            "[82/300] loss: 1.99297297000885\n",
            "[83/300] loss: 1.99297297000885\n",
            "[84/300] loss: 1.99297297000885\n",
            "[85/300] loss: 1.99297297000885\n",
            "[86/300] loss: 1.99297297000885\n",
            "[87/300] loss: 1.99297297000885\n",
            "[88/300] loss: 1.99297297000885\n",
            "[89/300] loss: 1.99297297000885\n",
            "[90/300] loss: 1.99297297000885\n",
            "[91/300] loss: 1.99297297000885\n",
            "[92/300] loss: 1.99297297000885\n",
            "[93/300] loss: 1.99297297000885\n",
            "[94/300] loss: 1.99297297000885\n",
            "[95/300] loss: 1.99297297000885\n",
            "[96/300] loss: 1.99297297000885\n",
            "[97/300] loss: 1.99297297000885\n",
            "[98/300] loss: 1.99297297000885\n",
            "[99/300] loss: 1.99297297000885\n",
            "[100/300] loss: 1.99297297000885\n",
            "[101/300] loss: 1.99297297000885\n",
            "[102/300] loss: 1.99297297000885\n",
            "[103/300] loss: 1.99297297000885\n",
            "[104/300] loss: 1.99297297000885\n",
            "[105/300] loss: 1.99297297000885\n",
            "[106/300] loss: 1.99297297000885\n",
            "[107/300] loss: 1.99297297000885\n",
            "[108/300] loss: 1.99297297000885\n",
            "[109/300] loss: 1.99297297000885\n",
            "[110/300] loss: 1.99297297000885\n",
            "[111/300] loss: 1.99297297000885\n",
            "[112/300] loss: 1.99297297000885\n",
            "[113/300] loss: 1.99297297000885\n",
            "[114/300] loss: 1.99297297000885\n",
            "[115/300] loss: 1.99297297000885\n",
            "[116/300] loss: 1.99297297000885\n",
            "[117/300] loss: 1.99297297000885\n",
            "[118/300] loss: 1.99297297000885\n",
            "[119/300] loss: 1.99297297000885\n",
            "[120/300] loss: 1.99297297000885\n",
            "[121/300] loss: 1.99297297000885\n",
            "[122/300] loss: 1.99297297000885\n",
            "[123/300] loss: 1.99297297000885\n",
            "[124/300] loss: 1.99297297000885\n",
            "[125/300] loss: 1.99297297000885\n",
            "[126/300] loss: 1.99297297000885\n",
            "[127/300] loss: 1.99297297000885\n",
            "[128/300] loss: 1.99297297000885\n",
            "[129/300] loss: 1.99297297000885\n",
            "[130/300] loss: 1.99297297000885\n",
            "[131/300] loss: 1.99297297000885\n",
            "[132/300] loss: 1.99297297000885\n",
            "[133/300] loss: 1.99297297000885\n",
            "[134/300] loss: 1.99297297000885\n",
            "[135/300] loss: 1.99297297000885\n",
            "[136/300] loss: 1.99297297000885\n",
            "[137/300] loss: 1.99297297000885\n",
            "[138/300] loss: 1.99297297000885\n",
            "[139/300] loss: 1.99297297000885\n",
            "[140/300] loss: 1.99297297000885\n",
            "[141/300] loss: 1.99297297000885\n",
            "[142/300] loss: 1.99297297000885\n",
            "[143/300] loss: 1.99297297000885\n",
            "[144/300] loss: 1.99297297000885\n",
            "[145/300] loss: 1.99297297000885\n",
            "[146/300] loss: 1.99297297000885\n",
            "[147/300] loss: 1.99297297000885\n",
            "[148/300] loss: 1.99297297000885\n",
            "[149/300] loss: 1.99297297000885\n",
            "[150/300] loss: 1.99297297000885\n",
            "[151/300] loss: 1.99297297000885\n",
            "[152/300] loss: 1.99297297000885\n",
            "[153/300] loss: 1.99297297000885\n",
            "[154/300] loss: 1.99297297000885\n",
            "[155/300] loss: 1.99297297000885\n",
            "[156/300] loss: 1.99297297000885\n",
            "[157/300] loss: 1.99297297000885\n",
            "[158/300] loss: 1.99297297000885\n",
            "[159/300] loss: 1.99297297000885\n",
            "[160/300] loss: 1.99297297000885\n",
            "[161/300] loss: 1.99297297000885\n",
            "[162/300] loss: 1.99297297000885\n",
            "[163/300] loss: 1.99297297000885\n",
            "[164/300] loss: 1.99297297000885\n",
            "[165/300] loss: 1.99297297000885\n",
            "[166/300] loss: 1.99297297000885\n",
            "[167/300] loss: 1.99297297000885\n",
            "[168/300] loss: 1.99297297000885\n",
            "[169/300] loss: 1.99297297000885\n",
            "[170/300] loss: 1.99297297000885\n",
            "[171/300] loss: 1.99297297000885\n",
            "[172/300] loss: 1.99297297000885\n",
            "[173/300] loss: 1.99297297000885\n",
            "[174/300] loss: 1.99297297000885\n",
            "[175/300] loss: 1.99297297000885\n",
            "[176/300] loss: 1.99297297000885\n",
            "[177/300] loss: 1.99297297000885\n",
            "[178/300] loss: 1.99297297000885\n",
            "[179/300] loss: 1.99297297000885\n",
            "[180/300] loss: 1.99297297000885\n",
            "[181/300] loss: 1.99297297000885\n",
            "[182/300] loss: 1.99297297000885\n",
            "[183/300] loss: 1.99297297000885\n",
            "[184/300] loss: 1.99297297000885\n",
            "[185/300] loss: 1.99297297000885\n",
            "[186/300] loss: 1.99297297000885\n",
            "[187/300] loss: 1.99297297000885\n",
            "[188/300] loss: 1.99297297000885\n",
            "[189/300] loss: 1.99297297000885\n",
            "[190/300] loss: 1.99297297000885\n",
            "[191/300] loss: 1.99297297000885\n",
            "[192/300] loss: 1.99297297000885\n",
            "[193/300] loss: 1.99297297000885\n",
            "[194/300] loss: 1.99297297000885\n",
            "[195/300] loss: 1.99297297000885\n",
            "[196/300] loss: 1.99297297000885\n",
            "[197/300] loss: 1.99297297000885\n",
            "[198/300] loss: 1.99297297000885\n",
            "[199/300] loss: 1.99297297000885\n",
            "[200/300] loss: 1.99297297000885\n",
            "[201/300] loss: 1.99297297000885\n",
            "[202/300] loss: 1.99297297000885\n",
            "[203/300] loss: 1.99297297000885\n",
            "[204/300] loss: 1.99297297000885\n",
            "[205/300] loss: 1.99297297000885\n",
            "[206/300] loss: 1.99297297000885\n",
            "[207/300] loss: 1.99297297000885\n",
            "[208/300] loss: 1.99297297000885\n",
            "[209/300] loss: 1.99297297000885\n",
            "[210/300] loss: 1.99297297000885\n",
            "[211/300] loss: 1.99297297000885\n",
            "[212/300] loss: 1.99297297000885\n",
            "[213/300] loss: 1.99297297000885\n",
            "[214/300] loss: 1.99297297000885\n",
            "[215/300] loss: 1.99297297000885\n",
            "[216/300] loss: 1.99297297000885\n",
            "[217/300] loss: 1.99297297000885\n",
            "[218/300] loss: 1.99297297000885\n",
            "[219/300] loss: 1.99297297000885\n",
            "[220/300] loss: 1.99297297000885\n",
            "[221/300] loss: 1.99297297000885\n",
            "[222/300] loss: 1.99297297000885\n",
            "[223/300] loss: 1.99297297000885\n",
            "[224/300] loss: 1.99297297000885\n",
            "[225/300] loss: 1.99297297000885\n",
            "[226/300] loss: 1.99297297000885\n",
            "[227/300] loss: 1.99297297000885\n",
            "[228/300] loss: 1.99297297000885\n",
            "[229/300] loss: 1.99297297000885\n",
            "[230/300] loss: 1.99297297000885\n",
            "[231/300] loss: 1.99297297000885\n",
            "[232/300] loss: 1.99297297000885\n",
            "[233/300] loss: 1.99297297000885\n",
            "[234/300] loss: 1.99297297000885\n",
            "[235/300] loss: 1.99297297000885\n",
            "[236/300] loss: 1.99297297000885\n",
            "[237/300] loss: 1.99297297000885\n",
            "[238/300] loss: 1.99297297000885\n",
            "[239/300] loss: 1.99297297000885\n",
            "[240/300] loss: 1.99297297000885\n",
            "[241/300] loss: 1.99297297000885\n",
            "[242/300] loss: 1.99297297000885\n",
            "[243/300] loss: 1.99297297000885\n",
            "[244/300] loss: 1.99297297000885\n",
            "[245/300] loss: 1.99297297000885\n",
            "[246/300] loss: 1.99297297000885\n",
            "[247/300] loss: 1.99297297000885\n",
            "[248/300] loss: 1.99297297000885\n",
            "[249/300] loss: 1.99297297000885\n",
            "[250/300] loss: 1.99297297000885\n",
            "[251/300] loss: 1.99297297000885\n",
            "[252/300] loss: 1.99297297000885\n",
            "[253/300] loss: 1.99297297000885\n",
            "[254/300] loss: 1.99297297000885\n",
            "[255/300] loss: 1.99297297000885\n",
            "[256/300] loss: 1.99297297000885\n",
            "[257/300] loss: 1.99297297000885\n",
            "[258/300] loss: 1.99297297000885\n",
            "[259/300] loss: 1.99297297000885\n",
            "[260/300] loss: 1.99297297000885\n",
            "[261/300] loss: 1.99297297000885\n",
            "[262/300] loss: 1.99297297000885\n",
            "[263/300] loss: 1.99297297000885\n",
            "[264/300] loss: 1.99297297000885\n",
            "[265/300] loss: 1.99297297000885\n",
            "[266/300] loss: 1.99297297000885\n",
            "[267/300] loss: 1.99297297000885\n",
            "[268/300] loss: 1.99297297000885\n",
            "[269/300] loss: 1.99297297000885\n",
            "[270/300] loss: 1.99297297000885\n",
            "[271/300] loss: 1.99297297000885\n",
            "[272/300] loss: 1.99297297000885\n",
            "[273/300] loss: 1.99297297000885\n",
            "[274/300] loss: 1.99297297000885\n",
            "[275/300] loss: 1.99297297000885\n",
            "[276/300] loss: 1.99297297000885\n",
            "[277/300] loss: 1.99297297000885\n",
            "[278/300] loss: 1.99297297000885\n",
            "[279/300] loss: 1.99297297000885\n",
            "[280/300] loss: 1.99297297000885\n",
            "[281/300] loss: 1.99297297000885\n",
            "[282/300] loss: 1.99297297000885\n",
            "[283/300] loss: 1.99297297000885\n",
            "[284/300] loss: 1.99297297000885\n",
            "[285/300] loss: 1.99297297000885\n",
            "[286/300] loss: 1.99297297000885\n",
            "[287/300] loss: 1.99297297000885\n",
            "[288/300] loss: 1.99297297000885\n",
            "[289/300] loss: 1.99297297000885\n",
            "[290/300] loss: 1.99297297000885\n",
            "[291/300] loss: 1.99297297000885\n",
            "[292/300] loss: 1.99297297000885\n",
            "[293/300] loss: 1.99297297000885\n",
            "[294/300] loss: 1.99297297000885\n",
            "[295/300] loss: 1.99297297000885\n",
            "[296/300] loss: 1.99297297000885\n",
            "[297/300] loss: 1.99297297000885\n",
            "[298/300] loss: 1.99297297000885\n",
            "[299/300] loss: 1.99297297000885\n"
          ],
          "name": "stdout"
        }
      ]
    },
    {
      "cell_type": "code",
      "metadata": {
        "colab": {
          "base_uri": "https://localhost:8080/",
          "height": 281
        },
        "id": "8coMTVOFtaWO",
        "outputId": "0c53cafd-5b7c-4393-fdd4-0b7ca07508de"
      },
      "source": [
        "plt.plot(losses);\n",
        "plt.title(\"train loss\");"
      ],
      "execution_count": 37,
      "outputs": [
        {
          "output_type": "display_data",
          "data": {
            "image/png": "[encoded data removed]",
            "text/plain": [
              "<Figure size 432x288 with 1 Axes>"
            ]
          },
          "metadata": {
            "tags": [],
            "needs_background": "light"
          }
        }
      ]
    }
  ]
}