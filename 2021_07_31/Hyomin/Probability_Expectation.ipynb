{
 "cells": [
  {
   "cell_type": "markdown",
   "metadata": {},
   "source": [
    "$$\n",
    "X \\mathtt{\\sim} N(0,1)\n",
    "$$\n",
    "\n",
    "$$\n",
    "Y \\mathtt{\\sim} N(0,2)\n",
    "$$"
   ]
  },
  {
   "cell_type": "code",
   "execution_count": 1,
   "metadata": {},
   "outputs": [
    {
     "data": {
      "text/plain": [
       "<Figure size 640x480 with 1 Axes>"
      ]
     },
     "metadata": {},
     "output_type": "display_data"
    }
   ],
   "source": [
    "import numpy as np\n",
    "import matplotlib.pyplot as plt\n",
    "\n",
    "np.random.seed(0)\n",
    "\n",
    "mu = 0.0\n",
    "sigma1 = 1.0\n",
    "sigma2 = 2.0\n",
    "\n",
    "x = np.linspace(-8, 8, 1000)\n",
    "y1 = (1 / np.sqrt(2 * np.pi * sigma1**2)) * np.exp(-(x-mu)**2 / (2 * sigma1**2))\n",
    "y2 = (1 / np.sqrt(2 * np.pi * sigma2**2)) * np.exp(-(x-mu)**2 / (2 * sigma2**2))\n",
    "\n",
    "plt.plot(x, y1, alpha=0.7, label='PDF of N(0, 1)')\n",
    "plt.plot(x, y2, alpha=0.7, label='PDF of N(0, 2)')\n",
    "plt.xlabel('x')\n",
    "plt.ylabel('f(x)')\n",
    "plt.legend(loc='upper left')\n",
    "plt.show()"
   ]
  },
  {
   "cell_type": "code",
   "execution_count": 2,
   "metadata": {},
   "outputs": [],
   "source": [
    "def expectation(x, y):\n",
    "    result=0\n",
    "    for i in range(len(x)):\n",
    "        result+=x[i]*y[i]\n",
    "    return result"
   ]
  },
  {
   "cell_type": "code",
   "execution_count": 3,
   "metadata": {},
   "outputs": [],
   "source": [
    "exp_x = expectation(x,y1)\n",
    "exp_y = expectation(x,y2)\n",
    "exp_xy = expectation(x, y1*y2)"
   ]
  },
  {
   "cell_type": "code",
   "execution_count": 4,
   "metadata": {},
   "outputs": [
    {
     "name": "stdout",
     "output_type": "stream",
     "text": [
      "Expectation of X ~ N(0,1) :  -9.83386745029233e-16\n"
     ]
    }
   ],
   "source": [
    "print(\"Expectation of X ~ N(0,1) : \",exp_x)"
   ]
  },
  {
   "cell_type": "code",
   "execution_count": 5,
   "metadata": {},
   "outputs": [
    {
     "name": "stdout",
     "output_type": "stream",
     "text": [
      "Expectation of Y ~ N(0,2) :  6.405249594609863e-15\n"
     ]
    }
   ],
   "source": [
    "print(\"Expectation of Y ~ N(0,2) : \",exp_y)"
   ]
  },
  {
   "cell_type": "code",
   "execution_count": 6,
   "metadata": {},
   "outputs": [
    {
     "name": "stdout",
     "output_type": "stream",
     "text": [
      "Expectation of XY :  -2.863113221422735e-16\n"
     ]
    }
   ],
   "source": [
    "print(\"Expectation of XY : \",exp_xy)"
   ]
  },
  {
   "cell_type": "markdown",
   "metadata": {},
   "source": [
    "$$\n",
    "||X||_p = (E(|X|^p))^{1/p}\n",
    "$$"
   ]
  },
  {
   "cell_type": "markdown",
   "metadata": {},
   "source": [
    "$$\n",
    "||X-Y||_p = (E(|X-Y|^p))^{1/p}\n",
    "$$"
   ]
  },
  {
   "cell_type": "code",
   "execution_count": 7,
   "metadata": {},
   "outputs": [],
   "source": [
    "def hilbert(y,p):\n",
    "    exp = expectation(x,abs(y)**p)\n",
    "    result = exp**(1/p)\n",
    "    return result"
   ]
  },
  {
   "cell_type": "code",
   "execution_count": 8,
   "metadata": {},
   "outputs": [
    {
     "name": "stderr",
     "output_type": "stream",
     "text": [
      "/home/ubuntu/anaconda3/envs/pytorch_p36/lib/python3.6/site-packages/ipykernel/__main__.py:3: RuntimeWarning: invalid value encountered in double_scalars\n",
      "  app.launch_new_instance()\n"
     ]
    }
   ],
   "source": [
    "# np.seterr('raise')\n",
    "hilbert_list = []\n",
    "for i in range(1,11):\n",
    "    hilbert_list.append(hilbert(y1-y2,i))"
   ]
  },
  {
   "cell_type": "markdown",
   "metadata": {},
   "source": [
    "result = round(exp,??) ** (round((1/p),6)) <br>\n",
    "위 warning을 해결하기 위해서는 expectation의 값에 소수점 자릿수를 제한해줘야 한다.<br>\n",
    "하지만 소수점 자릿수 제한을 해주면 plot 결과가 매우 튀어버리기 때문에 따로 제한을 걸지 않았다."
   ]
  },
  {
   "cell_type": "code",
   "execution_count": 9,
   "metadata": {},
   "outputs": [],
   "source": [
    "one_to_ten = list(range(1,11))"
   ]
  },
  {
   "cell_type": "code",
   "execution_count": 10,
   "metadata": {},
   "outputs": [
    {
     "data": {
      "text/plain": [
       "[<matplotlib.lines.Line2D at 0x7f8cbf316c50>]"
      ]
     },
     "execution_count": 10,
     "metadata": {},
     "output_type": "execute_result"
    },
    {
     "data": {
      "image/png": "[encoded data removed]",
      "text/plain": [
       "<Figure size 432x288 with 1 Axes>"
      ]
     },
     "metadata": {},
     "output_type": "display_data"
    }
   ],
   "source": [
    "plt.plot(one_to_ten, hilbert_list, alpha=0.7, label='Hilbert space (1<=p<=10)')"
   ]
  }
 ],
 "metadata": {
  "kernelspec": {
   "display_name": "Environment (conda_pytorch_p36)",
   "language": "python",
   "name": "conda_pytorch_p36"
  },
  "language_info": {
   "codemirror_mode": {
    "name": "ipython",
    "version": 3
   },
   "file_extension": ".py",
   "mimetype": "text/x-python",
   "name": "python",
   "nbconvert_exporter": "python",
   "pygments_lexer": "ipython3",
   "version": "3.6.5"
  }
 },
 "nbformat": 4,
 "nbformat_minor": 2
}
